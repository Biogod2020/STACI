{
 "cells": [
  {
   "cell_type": "code",
   "execution_count": 8,
   "metadata": {},
   "outputs": [],
   "source": [
    "##This is adapted from https://github.com/tkipf/gae/blob/master/gae/train.py and https://github.com/tkipf/pygcn/blob/master/pygcn/train.py##\n",
    "\n",
    "import time\n",
    "import os\n",
    "\n",
    "# Train on CPU (hide GPU) due to memory constraints\n",
    "# os.environ['CUDA_VISIBLE_DEVICES'] = \"\"\n",
    "\n",
    "\n",
    "import numpy as np\n",
    "import scipy.sparse as sp\n",
    "\n",
    "import torch\n",
    "from torch import optim\n",
    "\n",
    "from sklearn.metrics import roc_auc_score\n",
    "from sklearn.metrics import average_precision_score\n",
    "\n",
    "from gae.gae.optimizer import optimizerAE, optimizerVAE,get_roc_score,accuracy\n",
    "from gae.gae.model import GCNModelAE, GCNModelVAE\n",
    "import gae.gae.model\n",
    "from gae.gae.preprocessing import preprocess_graph, sparse_to_tuple, mask_test_edges,sparse_mx_to_torch_sparse_tensor\n",
    "import gae.gae.preprocessing\n",
    "\n",
    "import pickle\n",
    "import matplotlib.pyplot as plt\n"
   ]
  },
  {
   "cell_type": "code",
   "execution_count": 4,
   "metadata": {},
   "outputs": [],
   "source": [
    "# Settings\n",
    "use_cuda=False\n",
    "fastmode=False #Validate during training pass\n",
    "seed=3\n",
    "useSavedMaskedEdges=True\n",
    "epochs=200\n",
    "lr=0.01 #initial learning rate\n",
    "weight_decay=5e-4 #Weight for L2 loss on embedding matrix.\n",
    "hidden1=32 #Number of units in hidden layer 1\n",
    "hidden2=16 #Number of units in hidden layer 2\n",
    "dropout=0\n",
    "testEdges=0.1 #fraction of total edges for testing\n",
    "valEdges=0.05 #fraction of total edges for validation\n",
    "crossValidation=False\n",
    "ncrossVal=6\n",
    "model_str='gcn_vae' #currently available choices: gcn_vae, gcn_ae\n",
    "adj_path=os.path.join('/nfs','latdata','xinyi','slideseq','xamatrices','a','f3000_knn10_connectivity.npz')\n",
    "features_path=os.path.join('/nfs','latdata','xinyi','slideseq','xamatrices','x','f3000_XvarFeatures.npz')\n",
    "\n",
    "# Set cuda and seed\n",
    "np.random.seed(seed)\n",
    "if use_cuda and (not torch.cuda.is_available()):\n",
    "    print('cuda not available')\n",
    "    use_cuda=False\n",
    "torch.manual_seed(seed)\n",
    "if use_cuda:\n",
    "    torch.cuda.manual_seed(seed)\n",
    "\n",
    "# Load data\n",
    "adj=sp.load_npz(adj_path)\n",
    "features=sp.load_npz(features_path)\n",
    "features=sparse_mx_to_torch_sparse_tensor(features)\n",
    "# Store original adjacency matrix (without diagonal entries) for later\n",
    "adj_orig = adj\n",
    "adj = adj+ sp.dia_matrix((adj.diagonal()[np.newaxis, :], [0]), shape=adj.shape)\n",
    "\n"
   ]
  },
  {
   "cell_type": "code",
   "execution_count": 5,
   "metadata": {},
   "outputs": [],
   "source": [
    "if useSavedMaskedEdges:\n",
    "    with open('gae/maskedEdges/seed'+str(seed)+'.pkl', 'rb') as input:\n",
    "        maskedgeres = pickle.load(input)\n",
    "else:\n",
    "    # construct training, validation, and test sets\n",
    "    maskedgeres= mask_test_edges(adj,crossValidation,ncrossVal=ncrossVal,testSize=testEdges,valSize=valEdges)\n",
    "    with open('gae/maskedEdges/seed'+str(seed)+'.pkl', 'wb') as output:\n",
    "        pickle.dump(maskedgeres, output, pickle.HIGHEST_PROTOCOL)\n"
   ]
  },
  {
   "cell_type": "code",
   "execution_count": null,
   "metadata": {},
   "outputs": [
    {
     "name": "stdout",
     "output_type": "stream",
     "text": [
      "cross-validation  0\n",
      "Epoch: 0000 loss_train: 11.6791 acc_train: 0.4373 loss_val: 2.3141 roc_val: 0.4906 ap_val: 0.5455 time: 87.8830s\n",
      "Epoch: 0001 loss_train: 2.5209 acc_train: 0.0862 loss_val: 1.3797 roc_val: 0.4671 ap_val: 0.5256 time: 88.1566s\n",
      "Epoch: 0002 loss_train: 1.7085 acc_train: 0.1747 loss_val: 1.4901 roc_val: 0.4616 ap_val: 0.5207 time: 89.3261s\n",
      "Epoch: 0003 loss_train: 1.7357 acc_train: 0.1341 loss_val: 0.9655 roc_val: 0.4947 ap_val: 0.5363 time: 90.0010s\n",
      "Epoch: 0004 loss_train: 1.2160 acc_train: 0.2282 loss_val: 0.8196 roc_val: 0.5365 ap_val: 0.5650 time: 85.8652s\n"
     ]
    }
   ],
   "source": [
    "\n",
    "train_loss=[None]*len(maskedgeres)\n",
    "train_acc=[None]*len(maskedgeres)\n",
    "val_loss=[None]*len(maskedgeres)\n",
    "val_ap=[None]*len(maskedgeres)\n",
    "val_roc=[None]*len(maskedgeres)\n",
    "# loop over all train/validation sets\n",
    "for seti in range(len(maskedgeres)):\n",
    "    adj_train, train_edges, val_edges, val_edges_false, test_edges, test_edges_false = maskedgeres[seti]\n",
    "    \n",
    "    adj_norm = gae.gae.preprocessing.preprocess_graph(adj_train)\n",
    "    adj_label=adj_train + sp.eye(adj_train.shape[0])\n",
    "    adj_label=torch.tensor(adj_label.todense())\n",
    "    \n",
    "    num_nodes,num_features = features.shape\n",
    "\n",
    "    # Create model\n",
    "    if model_str == 'gcn_ae':\n",
    "        model = gae.gae.model.GCNModelAE(num_features, hidden1, hidden2, dropout)\n",
    "        loss_function=optimizerAE\n",
    "    elif model_str == 'gcn_vae':\n",
    "        model  = gae.gae.model.GCNModelVAE(num_features, hidden1, hidden2, dropout)\n",
    "        loss_function=optimizerVAE\n",
    "    optimizer = optim.Adam(model.parameters(), lr=lr, weight_decay=weight_decay)\n",
    "    \n",
    "    pos_weight = float(adj_train.shape[0] * adj_train.shape[0] - adj_train.sum()) / adj_train.sum()\n",
    "    pos_weight=torch.tensor(pos_weight)\n",
    "    norm = adj_train.shape[0] * adj_train.shape[0] / float((adj_train.shape[0] * adj_train.shape[0] - adj_train.sum()) * 2)\n",
    "\n",
    "    if use_cuda:\n",
    "        model.cuda()\n",
    "        features = features.cuda()\n",
    "        adj_norm=adj_norm.cuda()\n",
    "        adj_label = adj_label.cuda()\n",
    "        train_edges = train_edges.cuda()\n",
    "        val_edges = val_edges.cuda()\n",
    "        val_edges_false=val_edges_false.cuda()\n",
    "        test_edges=test_edges.cuda()\n",
    "        test_edges_false=test_edges_false.cuda()\n",
    "    \n",
    "    def train(epoch):\n",
    "        t = time.time()\n",
    "        model.train()\n",
    "        optimizer.zero_grad()\n",
    "        adj_recon,mu,logvar = model(features, adj_norm)\n",
    "#         print(adj_recon)\n",
    "#         print(adj_label)\n",
    "        loss = loss_function(adj_recon,adj_label, mu, logvar, num_nodes, pos_weight, norm)\n",
    "        acc_train = accuracy(adj_recon, adj_label)\n",
    "        loss.backward()\n",
    "        optimizer.step()\n",
    "\n",
    "        if not fastmode:\n",
    "            # Evaluate validation set performance separately,\n",
    "            # deactivates dropout during validation run.\n",
    "            model.eval()\n",
    "            adj_recon,mu,logvar = model(features, adj_norm)\n",
    "            \n",
    "        loss_val = optimizerAE(adj_recon,adj_label, mu, logvar, num_nodes, pos_weight, norm)\n",
    "        roc_val,ap_val=get_roc_score(val_edges, val_edges_false,adj_recon,adj_orig)\n",
    "        print('Epoch: {:04d}'.format(epoch),\n",
    "              'loss_train: {:.4f}'.format(loss.item()),\n",
    "              'acc_train: {:.4f}'.format(acc_train.item()),\n",
    "              'loss_val: {:.4f}'.format(loss_val.item()),\n",
    "              'roc_val: {:.4f}'.format(roc_val),\n",
    "              'ap_val: {:.4f}'.format(ap_val),\n",
    "              'time: {:.4f}s'.format(time.time() - t))\n",
    "        return loss.item(),acc_train.item(),loss_val.item(),roc_val,ap_val\n",
    "    \n",
    "    print('cross-validation ',seti)\n",
    "    train_loss_ep=[None]*epochs\n",
    "    train_acc_ep=[None]*epochs\n",
    "    val_loss_ep=[None]*epochs\n",
    "    val_ap_ep=[None]*epochs\n",
    "    val_roc_ep=[None]*epochs\n",
    "    t_ep=time.time()\n",
    "    for ep in range(epochs):\n",
    "        train_loss_ep[ep],train_acc_ep[ep],val_loss_ep[ep],val_roc_ep[ep],val_ap_ep[ep]=train(ep)\n",
    "    train_loss[seti]=train_loss_ep\n",
    "    train_acc[seti]=train_acc_ep\n",
    "    val_loss[seti]=val_loss_ep\n",
    "    val_ap[seti]=val_ap_ep\n",
    "    val_roc[seti]=val_roc_ep\n",
    "    print('total time: {:.4f}s'.format(time.time() - t_ep))\n",
    "model.eval()\n",
    "adj_recon,mu,logvar = model(features, adj_norm)\n",
    "roc_test,ap_test=get_roc_score(test_edges, test_edges_false,adj_recon,adj_orig)\n",
    "print('test results',\n",
    "      'roc_test: {:.4f}'.format(roc_test),\n",
    "      'ap_test: {:.4f}'.format(ap_test))\n"
   ]
  },
  {
   "cell_type": "code",
   "execution_count": 13,
   "metadata": {},
   "outputs": [
    {
     "name": "stdout",
     "output_type": "stream",
     "text": [
      "test results roc_test: 0.9392 ap_test: 0.9151\n"
     ]
    },
    {
     "data": {
      "image/png": "[encoded data removed]",
      "text/plain": [
       "<Figure size 432x288 with 1 Axes>"
      ]
     },
     "metadata": {
      "needs_background": "light"
     },
     "output_type": "display_data"
    },
    {
     "data": {
      "text/plain": [
       "<matplotlib.legend.Legend at 0x7fc55419c280>"
      ]
     },
     "execution_count": 13,
     "metadata": {},
     "output_type": "execute_result"
    },
    {
     "data": {
      "image/png": "[encoded data removed]",
      "text/plain": [
       "<Figure size 432x288 with 1 Axes>"
      ]
     },
     "metadata": {
      "needs_background": "light"
     },
     "output_type": "display_data"
    }
   ],
   "source": [
    "print('test results',\n",
    "      'roc_test: {:.4f}'.format(roc_test),\n",
    "      'ap_test: {:.4f}'.format(ap_test))\n",
    "plt.plot(np.arange(epochs),train_loss[0])\n",
    "plt.plot(np.arange(epochs),val_loss[0])\n",
    "plt.legend(['training loss','validation loss'])\n",
    "plt.show()\n",
    "plt.plot(np.arange(epochs),val_roc[0])\n",
    "plt.legend(['validation roc'])"
   ]
  }
 ],
 "metadata": {
  "kernelspec": {
   "display_name": "Python 3",
   "language": "python",
   "name": "python3"
  },
  "language_info": {
   "codemirror_mode": {
    "name": "ipython",
    "version": 3
   },
   "file_extension": ".py",
   "mimetype": "text/x-python",
   "name": "python",
   "nbconvert_exporter": "python",
   "pygments_lexer": "ipython3",
   "version": "3.8.3"
  }
 },
 "nbformat": 4,
 "nbformat_minor": 4
}
