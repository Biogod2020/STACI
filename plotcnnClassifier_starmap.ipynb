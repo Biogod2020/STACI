{
 "cells": [
  {
   "cell_type": "code",
   "execution_count": 1,
   "metadata": {},
   "outputs": [],
   "source": [
    "import sys\n",
    "sys.path.append('/home/xinyiz/pamrats')"
   ]
  },
  {
   "cell_type": "code",
   "execution_count": 2,
   "metadata": {},
   "outputs": [],
   "source": [
    "##This is adapted from https://github.com/tkipf/gae/blob/master/gae/train.py and https://github.com/tkipf/pygcn/blob/master/pygcn/train.py##\n",
    "\n",
    "import time\n",
    "import os\n",
    "\n",
    "# Train on CPU (hide GPU) due to memory constraints\n",
    "# os.environ['CUDA_VISIBLE_DEVICES'] = \"\"\n",
    "\n",
    "import scanpy\n",
    "import numpy as np\n",
    "import scipy.sparse as sp\n",
    "\n",
    "import torch\n",
    "from torch import optim\n",
    "from torch.utils.data import DataLoader\n",
    "# from sklearn.metrics import roc_auc_score\n",
    "# from sklearn.metrics import average_precision_score\n",
    "\n",
    "import image.loadImage as loadImage\n",
    "import gae.gae.optimizer as optimizer\n",
    "import image.modelsCNN as modelsCNN\n",
    "\n",
    "import pickle\n",
    "import matplotlib.pyplot as plt\n",
    "import seaborn as sns\n",
    "import pandas as pd\n"
   ]
  },
  {
   "cell_type": "code",
   "execution_count": 3,
   "metadata": {},
   "outputs": [],
   "source": [
    "imageSizes={}\n",
    "imageSizes['disease13']=(22210, 22344)\n",
    "imageSizes['control13']=(22355, 18953)\n",
    "imageSizes['disease8']=(22294, 19552)\n",
    "imageSizes['control8']=(22452, 19616)"
   ]
  },
  {
   "cell_type": "code",
   "execution_count": 4,
   "metadata": {},
   "outputs": [
    {
     "name": "stdout",
     "output_type": "stream",
     "text": [
      "(22210, 22344)\n",
      "flipping images\n",
      "(22355, 18953)\n",
      "flipping images\n",
      "no cells\n",
      "no cells\n",
      "no cells\n",
      "(22294, 19552)\n",
      "flipping images\n",
      "(22452, 19616)\n",
      "flipping images\n",
      "unflipping clusterMap\n",
      "unflipping clusterMap\n",
      "unflipping clusterMap\n",
      "unflipping clusterMap\n"
     ]
    }
   ],
   "source": [
    "# get cluster map\n",
    "\n",
    "inverseAct=None\n",
    "# inverseAct=None\n",
    "minCells=15 #min number of cells for analysis\n",
    "minCell_clusterDE=5\n",
    "clustermethod=['leiden']\n",
    "# clustermethod=['leiden','agglomerative','kmeanbatch']\n",
    "#umap/leiden clustering parameters\n",
    "n_neighbors=10\n",
    "min_dist=0.25\n",
    "n_pcs=40 #for clustering\n",
    "resolution=0.2\n",
    "plotepoch=1200\n",
    "savenameAdd=''\n",
    "#DBscan\n",
    "epslist= [6,8,10]\n",
    "min_sampleslist=[15,30,45] \n",
    "#agglomerative\n",
    "nclusterlist=[2,3,4,5,8,10,15]\n",
    "aggMetric=['euclidean']\n",
    "\n",
    "\n",
    "combineCelltype={'glia':['Astro','Micro', 'OPC', 'Oligo'],'CA':['CA1', 'CA2', 'CA3']}\n",
    "\n",
    "seed=3\n",
    "\n",
    "plot_samples={'disease13':'AD_mouse9494','control13':'AD_mouse9498','disease8':'AD_mouse9723','control8':'AD_mouse9735'}\n",
    "plot_sample_X=['logminmax']\n",
    "diamThresh_mul=800\n",
    "minThresh_mul=12\n",
    "overlap=0\n",
    "name='all_thresh25min12_01'\n",
    "logsavepath='/mnt/external_ssd/xinyi/log/train_cnn_starmap/'+name\n",
    "modelsavepath='/mnt/external_ssd/xinyi/models/train_cnn_starmap/'+name\n",
    "plotsavepath='/mnt/external_ssd/xinyi/plots/train_cnn_starmap/'+name\n",
    "datadir='/home/xinyiz/2021-01-13-mAD-test-dataset'\n",
    "\n",
    "#Load data\n",
    "imageslist={}\n",
    "for s in plot_samples.keys():\n",
    "    imageslist[s]=loadImage.loadandsplit(plot_samples[s],datadir,diamThresh_mul,overlap,0,0,ifFlip=True,minCutoff=minThresh_mul,seed=seed,split=False,imagename='pi_sum.tif',minmaxscale=True,returnPos=True)\n",
    "    imageslist[s]=imageslist[s][1]\n",
    "\n",
    "\n",
    "coordsList=None\n",
    "samplenameList=None\n",
    "\n",
    "for s in plot_samples.keys():\n",
    "    coord=imageslist[s]\n",
    "    \n",
    "    if coordsList is None:\n",
    "        coordsList=coord\n",
    "        samplenameList=np.repeat(s,coord.shape[0])\n",
    "    else:\n",
    "        coordsList=np.vstack((coordsList,coord))\n",
    "        samplenameList=np.concatenate((samplenameList,np.repeat(s,coord.shape[0])),axis=None)\n",
    "coordsList=coordsList.astype('int')\n",
    "\n",
    "sampledir=os.path.join(plotsavepath,'combined')\n",
    "if inverseAct:\n",
    "    sampledir+='_beforeAct'\n",
    "clustersavedir=os.path.join(sampledir,'cluster')\n",
    "    \n",
    "def mapLeiden(coords,samplenameList,imageSizes,n_neighbors,n_pcs,min_dist,resolution):\n",
    "    savenamecluster='leiden_nn'+str(n_neighbors)+'mdist0'+str(int(min_dist*100))+'n_pcs'+str(n_pcs)+'res'+str(resolution)+'epoch'+str(plotepoch)\n",
    "    readpath=os.path.join(clustersavedir,savenamecluster)\n",
    "    if not os.path.exists(readpath):\n",
    "        print('DNE: '+readpath)\n",
    "    with open(readpath, 'rb') as input:\n",
    "        labels = pickle.load(input)\n",
    "    labels=np.array(labels)\n",
    "\n",
    "    radius=int(diamThresh_mul/2)\n",
    "    clusterMapList={}\n",
    "    for s in np.unique(samplenameList):\n",
    "        samplename=plot_samples[s]\n",
    "        clusterMapList[s]=np.zeros(imageSizes[s])-1\n",
    "    for i in range(coords.shape[0]):\n",
    "        centroid=coords[i]\n",
    "        s=samplenameList[i]\n",
    "        image=clusterMapList[s]\n",
    "        rowstart=max(0,centroid[0]-radius)\n",
    "        rowEnd=min(image.shape[0],centroid[0]+radius)\n",
    "        colstart=max(0,centroid[1]-radius)\n",
    "        colEnd=min(image.shape[1],centroid[1]+radius)\n",
    "        clusterMapList[s][rowstart:rowEnd,colstart:colEnd]=labels[i]\n",
    "    for s in np.unique(samplenameList):\n",
    "        samplename=plot_samples[s]\n",
    "        print('unflipping clusterMap')\n",
    "        if samplename=='AD_mouse9494':\n",
    "            clusterMapList[s]=np.flipud(clusterMapList[s])\n",
    "        elif samplename=='AD_mouse9498':\n",
    "            clusterMapList[s]=np.fliplr(clusterMapList[s])\n",
    "        elif samplename=='AD_mouse9735':\n",
    "            clusterMapList[s]=np.flipud(clusterMapList[s])\n",
    "            clusterMapList[s]=np.fliplr(clusterMapList[s])\n",
    "        clusterMapList[s]=clusterMapList[s].astype('int')\n",
    "    return clusterMapList\n",
    "\n",
    "if 'leiden' in clustermethod:\n",
    "    clusterMapList=mapLeiden(coordsList,samplenameList,imageSizes,n_neighbors,n_pcs,min_dist,resolution)"
   ]
  },
  {
   "cell_type": "code",
   "execution_count": 5,
   "metadata": {},
   "outputs": [],
   "source": [
    "# Settings for clf\n",
    "os.environ[\"CUDA_VISIBLE_DEVICES\"] = \"1\" \n",
    "use_cuda=True\n",
    "fastmode=False #Validate during training pass\n",
    "seed=3\n",
    "epochs=1000\n",
    "saveFreq=10\n",
    "lr=0.00001 #initial learning rate\n",
    "lr_adv=0.001\n",
    "weight_decay=0 #Weight for L2 loss on embedding matrix.\n",
    "\n",
    "batchsize=16\n",
    "\n",
    "dropout=0.01\n",
    "testNodes=0.1 #fraction of total nodes for testing\n",
    "valNodes=0.05 #fraction of total nodes for validation\n",
    "# randFeatureSubset=None\n",
    "model_str='alexnet'\n",
    "\n",
    "kernel_size=4\n",
    "stride=2\n",
    "padding=1\n",
    "\n",
    "hidden1=64 #Number of channels in hidden layer 1\n",
    "hidden2=128 \n",
    "hidden3=256\n",
    "hidden4=512\n",
    "hidden5=512\n",
    "fc_dim1=512*25*25\n",
    "fc_dim2=1024\n",
    "\n",
    "pretrainedAE=None #{'name':'controlphy5XAbin_01_dca','epoch':9990}\n",
    "# training_samples=['control13','disease13','disease8','control8']\n",
    "training_samples=['disease13']\n",
    "targetBatch=None\n",
    "switchFreq=10\n",
    "diamThresh_mul=800\n",
    "minThresh_mul=12\n",
    "overlap=int(diamThresh_mul*0.7)\n",
    "areaThresh=diamThresh_mul*diamThresh_mul*0.7\n",
    "name='disease13_thresh25min12_overlap70area70_03'\n",
    "logsavepath='/mnt/external_ssd/xinyi/log/train_cnnClf_starmap/'+name\n",
    "modelsavepath='/mnt/external_ssd/xinyi/models/train_cnnClf_starmap/'+name\n",
    "plotsavepath='/mnt/external_ssd/xinyi/plots/train_cnnClf_starmap/'+name\n",
    "\n",
    "#Load data\n",
    "sampleidx={'disease13':'AD_mouse9494','control13':'AD_mouse9498','disease8':'AD_mouse9723','control8':'AD_mouse9735'}\n",
    "datadir='/home/xinyiz/2021-01-13-mAD-test-dataset'\n",
    "\n",
    "# Set cuda and seed\n",
    "np.random.seed(seed)\n",
    "if use_cuda and (not torch.cuda.is_available()):\n",
    "    print('cuda not available')\n",
    "    use_cuda=False\n",
    "torch.manual_seed(seed)\n",
    "if use_cuda:\n",
    "    torch.cuda.manual_seed(seed)\n",
    "    torch.backends.cudnn.enabled = True\n",
    "\n",
    "# Load data\n",
    "# if randFeatureSubset != None:\n",
    "#     idx=np.random.choice(features.shape[1],randFeatureSubset,replace=False)\n",
    "#     features=features[:,idx]\n"
   ]
  },
  {
   "cell_type": "code",
   "execution_count": 6,
   "metadata": {},
   "outputs": [],
   "source": [
    "plaqueCentroids={}\n",
    "plaqueCentroids['disease13']=pd.read_csv('/home/xinyiz/2021-01-13-mAD-test-dataset/AD_mouse9494/trimmed_images/PlaqueMask.csv', header=0)\n",
    "plaqueCentroids['disease8']=pd.read_csv('/home/xinyiz/2021-01-13-mAD-test-dataset/AD_mouse9723/trimmed_images/PlaqueMask.csv', header=0)\n",
    "maxArea=max(np.max(plaqueCentroids['disease13']['Area']),np.max(plaqueCentroids['disease8']['Area']))\n",
    "plaqueCutoffRadius=max(int(np.sqrt(maxArea)/2),int(diamThresh_mul/2))"
   ]
  },
  {
   "cell_type": "code",
   "execution_count": 7,
   "metadata": {},
   "outputs": [
    {
     "name": "stdout",
     "output_type": "stream",
     "text": [
      "(22210, 22344)\n",
      "plaque1959\n",
      "no plaque2434\n",
      "(22294, 19552)\n",
      "plaque758\n",
      "no plaque3283\n"
     ]
    }
   ],
   "source": [
    "coordsList=None\n",
    "samplenameList=None\n",
    "imageslist={}\n",
    "for s in ['disease13','disease8']:\n",
    "    imageslist[s]=loadImage.loadandsplitPlaque_overlap(areaThresh,plaqueCentroids[s][['Y','X']].to_numpy().astype(int),plaqueCutoffRadius,sampleidx[s],datadir,diamThresh_mul,overlap,valNodes,testNodes,ifFlip=False,minCutoff=minThresh_mul,seed=seed,returnPos=True)\n"
   ]
  },
  {
   "cell_type": "code",
   "execution_count": 8,
   "metadata": {},
   "outputs": [
    {
     "name": "stdout",
     "output_type": "stream",
     "text": [
      "(22355, 18953)\n",
      "no cells\n",
      "no cells\n",
      "(22452, 19616)\n"
     ]
    }
   ],
   "source": [
    "for s in ['control13','control8']:\n",
    "    imageslist[s]=loadImage.loadandsplit(sampleidx[s],datadir,diamThresh_mul,0,valNodes,testNodes,ifFlip=False,minCutoff=minThresh_mul,seed=seed,clf=True,returnPos=True)\n",
    "    "
   ]
  },
  {
   "cell_type": "code",
   "execution_count": 9,
   "metadata": {},
   "outputs": [],
   "source": [
    "if not os.path.exists(logsavepath):\n",
    "    os.mkdir(logsavepath)\n",
    "if not os.path.exists(modelsavepath):\n",
    "    os.mkdir(modelsavepath)\n",
    "if not os.path.exists(plotsavepath):\n",
    "    os.mkdir(plotsavepath)"
   ]
  },
  {
   "cell_type": "code",
   "execution_count": 10,
   "metadata": {},
   "outputs": [
    {
     "name": "stdout",
     "output_type": "stream",
     "text": [
      "1668\n",
      "2066\n"
     ]
    }
   ],
   "source": [
    "npos=0\n",
    "nneg=0\n",
    "for s in training_samples:\n",
    "    npos=np.sum(imageslist['disease13'][3])\n",
    "    nneg=imageslist['disease13'][3].shape[0]-npos\n",
    "print(npos)\n",
    "print(nneg)"
   ]
  },
  {
   "cell_type": "code",
   "execution_count": 11,
   "metadata": {},
   "outputs": [],
   "source": [
    "mse=torch.nn.MSELoss()\n",
    "# mse=torch.nn.MSELoss(reduction=None)\n",
    "# Create model\n",
    "if model_str=='alexnet':\n",
    "    model = modelsCNN.AlexNet(2)\n",
    "    lossCE=torch.nn.CrossEntropyLoss(torch.tensor([(nneg+npos)/nneg,(nneg+npos)/npos]).cuda().float())\n",
    "\n",
    "# if model_str=='cnnvae_clf':\n",
    "#     model = modelsCNN.CNN_VAE_clf(kernel_size, stride, padding, 1, hidden1, hidden2, hidden3, hidden4, hidden5, fc_dim1,fc_dim2)\n",
    "#     lossCE=torch.nn.CrossEntropyLoss(torch.tensor([1,imageslist['disease13'][3].shape[0]/np.sum(imageslist['disease13'][3])]).cuda().float())\n",
    "\n",
    "if use_cuda:\n",
    "    model.cuda()\n",
    "    \n",
    "optimizer = optim.Adam(model.parameters(), lr=lr, weight_decay=weight_decay)\n"
   ]
  },
  {
   "cell_type": "code",
   "execution_count": 12,
   "metadata": {
    "scrolled": true
   },
   "outputs": [
    {
     "name": "stdout",
     "output_type": "stream",
     "text": [
      "disease13\n",
      "control13\n",
      "disease8\n"
     ]
    },
    {
     "name": "stderr",
     "output_type": "stream",
     "text": [
      "/home/xinyiz/anaconda3/envs/pytorch/lib/python3.8/site-packages/numpy/core/fromnumeric.py:3372: RuntimeWarning: Mean of empty slice.\n",
      "  return _methods._mean(a, axis=axis, dtype=dtype,\n",
      "/home/xinyiz/anaconda3/envs/pytorch/lib/python3.8/site-packages/numpy/core/_methods.py:170: RuntimeWarning: invalid value encountered in double_scalars\n",
      "  ret = ret.dtype.type(ret / rcount)\n"
     ]
    },
    {
     "name": "stdout",
     "output_type": "stream",
     "text": [
      "control8\n"
     ]
    }
   ],
   "source": [
    "radius=int(diamThresh_mul/2)\n",
    "def plotLoss(inputNp,labelsNp,coordNp,name,clusterMap,savepath,savenameAdd=''):\n",
    "    if 'disease' in s:\n",
    "        lossMap_counts_pos=np.zeros(imageSizes[s])\n",
    "    lossMap_pos=np.zeros(imageSizes[s])\n",
    "    lossMap_neg=np.zeros(imageSizes[s])\n",
    "    lossMap_counts_neg=np.zeros(imageSizes[s])\n",
    "#     loss_test_all=np.zeros(inputNp.shape[0])\n",
    "    for i in range(inputNp.shape[0]):\n",
    "        testInput=inputNp[[i]]\n",
    "        labels=labelsNp[[i]]\n",
    "        centroid=coordNp[i]\n",
    "        if use_cuda:\n",
    "            testInput=torch.tensor(testInput).cuda().float()\n",
    "            labels=torch.tensor(labels).cuda().long()\n",
    "        pred = model(testInput)\n",
    "        loss_test_curr=lossCE(pred,labels).item()\n",
    "        \n",
    "        rowstart=max(0,centroid[0]-radius)\n",
    "        rowEnd=min(imageSizes[s][0],centroid[0]+radius)\n",
    "        colstart=max(0,centroid[1]-radius)\n",
    "        colEnd=min(imageSizes[s][1],centroid[1]+radius)\n",
    "        \n",
    "        if labels==1:\n",
    "            lossMap_pos[rowstart:rowEnd,colstart:colEnd]+=loss_test_curr\n",
    "            lossMap_counts_pos[rowstart:rowEnd,colstart:colEnd]+=1\n",
    "        else:\n",
    "            lossMap_neg[rowstart:rowEnd,colstart:colEnd]+=loss_test_curr\n",
    "            lossMap_counts_neg[rowstart:rowEnd,colstart:colEnd]+=1\n",
    "#     print('wrong pixles: '+str(np.sum(np.logical_and(lossMap_counts_pos>0,lossMap_counts_neg>0))))\n",
    "    inputNp=None\n",
    "    if 'disease' in s:\n",
    "        nonzeroIdx_pos=(lossMap_counts_pos!=0)\n",
    "        lossMap_pos[nonzeroIdx_pos]=lossMap_pos[nonzeroIdx_pos]/lossMap_counts_pos[nonzeroIdx_pos]\n",
    "    nonzeroIdx_neg=(lossMap_counts_neg!=0)\n",
    "    lossMap_neg[nonzeroIdx_neg]=lossMap_neg[nonzeroIdx_neg]/lossMap_counts_neg[nonzeroIdx_neg]\n",
    "    \n",
    "    if 'disease' in s:\n",
    "        lossMap_counts_pos=None\n",
    "    lossMap_counts_neg=None\n",
    "    \n",
    "    clusters=np.unique(clusterMap)\n",
    "    clusters=np.max(clusters) #correction: +1\n",
    "    clusterPosloss=np.zeros(clusters)-1\n",
    "    clusterNegloss=np.zeros(clusters)-1\n",
    "    for c in range(clusters):\n",
    "        if 'disease' in s:\n",
    "            clusterPosloss[c]=np.mean(lossMap_pos[np.logical_and(nonzeroIdx_pos,clusterMap==c)])\n",
    "        clusterNegloss[c]=np.mean(lossMap_neg[np.logical_and(nonzeroIdx_neg,clusterMap==c)])\n",
    "    \n",
    "    lossMap_neg[nonzeroIdx_neg]=lossMap_neg[nonzeroIdx_neg]/np.max(lossMap_neg[nonzeroIdx_neg])\n",
    "    if 'disease' in s:\n",
    "        lossMap_pos[nonzeroIdx_pos]=lossMap_pos[nonzeroIdx_pos]/np.max(lossMap_pos[nonzeroIdx_pos])\n",
    "        zeroIdx_all=np.logical_not(np.logical_or(nonzeroIdx_pos,nonzeroIdx_neg))\n",
    "    else:\n",
    "        zeroIdx_all=np.logical_not(nonzeroIdx_neg)\n",
    "    lossMap_not=np.zeros(imageSizes[s])\n",
    "    lossMap_not[zeroIdx_all]=1\n",
    "    img=np.stack((lossMap_pos,lossMap_neg,lossMap_not),axis=2)\n",
    "    lossMap_pos=None\n",
    "    lossMap_neg=None\n",
    "    lossMap_not=None\n",
    "    plt.imsave(os.path.join(savepath,'lossDistr_'+s+name+savenameAdd+'.jpg'),img)\n",
    "    plt.close()\n",
    "    return clusterPosloss,clusterNegloss\n",
    "\n",
    "testepoch=20\n",
    "model.load_state_dict(torch.load(os.path.join(modelsavepath,str(testepoch)+'.pt')))\n",
    "model.eval()\n",
    "savepath=os.path.join(plotsavepath,'LossDistribution_testepoch'+str(testepoch)+'leiden_nn'+str(n_neighbors)+'mdist0'+str(int(min_dist*100))+'n_pcs'+str(n_pcs)+'res'+str(resolution)+'epoch'+str(plotepoch))\n",
    "if not os.path.exists(savepath):\n",
    "    os.mkdir(savepath)\n",
    "clusterPoslossTest={}\n",
    "clusterNeglossTest={}\n",
    "clusterPoslossTrain={}\n",
    "clusterNeglossTrain={}\n",
    "clusterPoslossVal={}\n",
    "clusterNeglossVal={}\n",
    "clusterPoslossAll={}\n",
    "clusterNeglossAll={}\n",
    "for s in sampleidx.keys():\n",
    "    print(s)\n",
    "    trainInputnp, valInputnp, testInputnp, trainLabelsnp,valLabelsnp,testLabelsnp,trainCoordnp,valCoordnp,testCoordnp=imageslist[s]\n",
    "    trainCoordnp=trainCoordnp.astype('int')\n",
    "    valCoordnp=valCoordnp.astype('int')\n",
    "    testCoordnp=testCoordnp.astype('int')\n",
    "#     clusterPoslossAll[s],clusterNeglossAll[s]=plotLoss(np.concatenate((trainInputnp,valInputnp,testInputnp),axis=0),np.concatenate((trainLabelsnp,valLabelsnp,testLabelsnp)),np.concatenate((trainCoordnp,valCoordnp,testCoordnp),axis=0),'all',clusterMapList[s],savepath)\n",
    "    clusterPoslossTest[s],clusterNeglossTest[s]=plotLoss(testInputnp,testLabelsnp,testCoordnp,'test',clusterMapList[s],savepath)\n",
    "    clusterPoslossTrain[s],clusterNeglossTrain[s]=plotLoss(trainInputnp,trainLabelsnp,trainCoordnp,'train',clusterMapList[s],savepath)\n",
    "    clusterPoslossVal[s],clusterNeglossVal[s]=plotLoss(valInputnp,valLabelsnp,valCoordnp,'val',clusterMapList[s],savepath)\n",
    "    "
   ]
  },
  {
   "cell_type": "code",
   "execution_count": 13,
   "metadata": {},
   "outputs": [
    {
     "data": {
      "image/png": "[encoded data removed]",
      "text/plain": [
       "<Figure size 432x288 with 1 Axes>"
      ]
     },
     "metadata": {
      "needs_background": "light"
     },
     "output_type": "display_data"
    },
    {
     "data": {
      "image/png": "[encoded data removed]",
      "text/plain": [
       "<Figure size 432x288 with 1 Axes>"
      ]
     },
     "metadata": {
      "needs_background": "light"
     },
     "output_type": "display_data"
    },
    {
     "data": {
      "image/png": "[encoded data removed]",
      "text/plain": [
       "<Figure size 432x288 with 1 Axes>"
      ]
     },
     "metadata": {
      "needs_background": "light"
     },
     "output_type": "display_data"
    },
    {
     "data": {
      "image/png": "[encoded data removed]",
      "text/plain": [
       "<Figure size 432x288 with 1 Axes>"
      ]
     },
     "metadata": {
      "needs_background": "light"
     },
     "output_type": "display_data"
    },
    {
     "data": {
      "image/png": "[encoded data removed]",
      "text/plain": [
       "<Figure size 432x288 with 1 Axes>"
      ]
     },
     "metadata": {
      "needs_background": "light"
     },
     "output_type": "display_data"
    },
    {
     "data": {
      "image/png": "[encoded data removed]",
      "text/plain": [
       "<Figure size 432x288 with 1 Axes>"
      ]
     },
     "metadata": {
      "needs_background": "light"
     },
     "output_type": "display_data"
    }
   ],
   "source": [
    "def plotLossDistr(lossDict,savepath,savename):\n",
    "    barWidth = 0.25\n",
    "    fig = plt.subplots()\n",
    "\n",
    "    xlabels=[i for i in lossDict.keys()]\n",
    "    color=['r','g','b','c']\n",
    "    idx=0\n",
    "    for sidx in range(len(xlabels)):\n",
    "        s=xlabels[sidx]\n",
    "        if np.sum(lossDict[s]!=-1)==0:\n",
    "            continue\n",
    "        \n",
    "        brs=np.arange(lossDict[s].size)+idx*barWidth\n",
    "        plt.bar(brs,lossDict[s],color=color[sidx],width=barWidth,label=s,edgecolor=None)\n",
    "        idx+=1\n",
    "    plt.xticks(np.arange(lossDict[s].size)+barWidth,\n",
    "            np.arange(lossDict[s].size))\n",
    "\n",
    "    plt.legend()\n",
    "    plt.savefig(os.path.join(savepath,savename+'.jpg'))\n",
    "\n",
    "plotLossDistr(clusterPoslossTest,savepath,'lossByCluster_testPos')\n",
    "plotLossDistr(clusterNeglossTest,savepath,'lossByCluster_testNeg')\n",
    "plotLossDistr(clusterPoslossTrain,savepath,'lossByCluster_trainPos')\n",
    "plotLossDistr(clusterNeglossTrain,savepath,'lossByCluster_trainNeg')\n",
    "plotLossDistr(clusterPoslossVal,savepath,'lossByCluster_ValPos')\n",
    "plotLossDistr(clusterNeglossVal,savepath,'lossByCluster_ValNeg')"
   ]
  }
 ],
 "metadata": {
  "kernelspec": {
   "display_name": "Python 3",
   "language": "python",
   "name": "python3"
  },
  "language_info": {
   "codemirror_mode": {
    "name": "ipython",
    "version": 3
   },
   "file_extension": ".py",
   "mimetype": "text/x-python",
   "name": "python",
   "nbconvert_exporter": "python",
   "pygments_lexer": "ipython3",
   "version": "3.8.5"
  }
 },
 "nbformat": 4,
 "nbformat_minor": 4
}
