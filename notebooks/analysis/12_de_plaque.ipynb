{
 "cells": [
  {
   "cell_type": "code",
   "execution_count": 1,
   "metadata": {},
   "outputs": [],
   "source": [
    "import sys\n",
    "sys.path.append('/home/xinyiz/pamrats')"
   ]
  },
  {
   "cell_type": "code",
   "execution_count": 33,
   "metadata": {},
   "outputs": [],
   "source": [
    "import time\n",
    "import os\n",
    "\n",
    "import scanpy\n",
    "import numpy as np\n",
    "import scipy.sparse as sp\n",
    "\n",
    "import torch\n",
    "from torch import optim\n",
    "from torch.utils.data import DataLoader\n",
    "\n",
    "import image.loadImage as loadImage\n",
    "import gae.gae.optimizer as optimizer\n",
    "import gae.gae.model\n",
    "import gae.gae.preprocessing as preprocessing\n",
    "import image.modelsCNN as modelsCNN\n",
    "\n",
    "import pickle\n",
    "import matplotlib.pyplot as plt\n",
    "import seaborn as sns\n",
    "import pandas as pd\n",
    "import matplotlib.colors\n",
    "from sklearn.preprocessing import MinMaxScaler\n",
    "import anndata as ad\n",
    "\n",
    "from venn import venn\n"
   ]
  },
  {
   "cell_type": "code",
   "execution_count": 3,
   "metadata": {},
   "outputs": [],
   "source": [
    "imageSizes={}\n",
    "imageSizes['disease13']=(22210, 22344)\n",
    "imageSizes['control13']=(22355, 18953)\n",
    "imageSizes['disease8']=(22294, 19552)\n",
    "imageSizes['control8']=(22452, 19616)\n",
    "\n",
    "plaqueMaskName='PlaqueMask6'\n",
    "plaqueMaskImg='Maskofplaque6.tif'\n",
    "lossThreshSize=1111"
   ]
  },
  {
   "cell_type": "code",
   "execution_count": 29,
   "metadata": {},
   "outputs": [],
   "source": [
    "# name='allk20XA_02_dca_over_leiden0.05_epoch9990'\n",
    "# gaeClusterPath='/mnt/external_ssd/xinyi/plots/train_gae_starmap/allk20XA_02_dca_over/combinedlogminmax_beforeAct/cluster/leiden_nn10mdist025n_pcs40res0.05epoch9990'\n",
    "name='all'\n",
    "gaeClusterPath=None\n",
    "\n",
    "desavepath='/mnt/external_ssd/xinyi/plots/data/plaqueDE/'+name\n",
    "diamThresh_mul=800\n",
    "minThresh_mul=12\n",
    "overlap=int(diamThresh_mul*0.7)\n",
    "areaThresh=diamThresh_mul*diamThresh_mul*0.7\n",
    "\n",
    "minCell_DE=10 #require at least 10 cells in both groups respectively for DE\n",
    "ntopgene=15 #for plots\n",
    "fc=1.1\n",
    "pvalthresh=0.05\n",
    "\n",
    "num_features=2112\n",
    "training_samples=['disease13','control13','disease8','control8']\n",
    "training_sample_X='logminmax'\n",
    "standardizeX=False\n",
    "datadir='/home/xinyiz/2021-01-13-mAD-test-dataset'\n",
    "\n",
    "#Load data\n",
    "sampleidx={'disease13':'AD_mouse9494','control13':'AD_mouse9498','disease8':'AD_mouse9723','control8':'AD_mouse9735'}\n",
    "plot_samples={'disease13':'AD_mouse9494','control13':'AD_mouse9498','disease8':'AD_mouse9723','control8':'AD_mouse9735'}\n",
    "\n",
    "featureslist={}\n",
    "scaleddata=scanpy.read_h5ad(datadir+'/2020-12-27-starmap-mAD-raw.h5ad')\n",
    "scalefactor={}\n",
    "libsizeSum=0\n",
    "for s in plot_samples.keys():\n",
    "    scaleddata_train=scaleddata.X[scaleddata.obs['sample']==plot_samples[s]]\n",
    "\n",
    "    libsizeS=np.sum(scaleddata_train,axis=1)\n",
    "    scalefactorS=np.median(libsizeS)\n",
    "    libsizeSum+=scalefactorS\n",
    "    scalefactor[s]=scalefactorS\n",
    "sizeFactor=libsizeSum/len(list(plot_samples.keys()))\n",
    "for s in plot_samples.keys():\n",
    "    scaleddata_train=scaleddata.X[scaleddata.obs['sample']==plot_samples[s]]\n",
    "    \n",
    "    featurelog_train=np.log2(scaleddata_train*(sizeFactor/scalefactor[s])+1/2)\n",
    "    featureslist[s]=featurelog_train\n",
    "\n",
    "cellCoord={}\n",
    "for s in sampleidx.keys():\n",
    "    sampleidx_s=sampleidx[s] \n",
    "    cellCoord[s]=((scaleddata.obs.loc[scaleddata.obs['sample']==sampleidx_s,['y','x']].to_numpy())/0.3).astype(int)\n",
    "\n",
    "if gaeClusterPath:\n",
    "    with open(gaeClusterPath, 'rb') as input:\n",
    "        gaeclusterlabels = pickle.load(input)\n",
    "else:\n",
    "    gaeclusterlabels=np.repeat(0,scaleddata.X.shape[0])\n",
    "    \n",
    "plot_samples={'disease13':'AD_mouse9494','control13':'AD_mouse9498','disease8':'AD_mouse9723','control8':'AD_mouse9735'}\n",
    "\n",
    "gaeCoord=None\n",
    "sampleNames=None\n",
    "for s in plot_samples.keys():\n",
    "    sampleidx_s=plot_samples[s] \n",
    "    if gaeCoord is None:\n",
    "        gaeCoord=scaleddata.obs.loc[scaleddata.obs['sample']==sampleidx_s,['y','x']].to_numpy()\n",
    "        sampleNames=np.repeat(s,np.sum(scaleddata.obs['sample']==sampleidx_s))\n",
    "    else:\n",
    "        gaeCoord=np.concatenate((gaeCoord,scaleddata.obs.loc[scaleddata.obs['sample']==sampleidx_s,['y','x']].to_numpy()),axis=0)\n",
    "        sampleNames=np.concatenate((sampleNames,np.repeat(s,np.sum(scaleddata.obs['sample']==sampleidx_s))),axis=None)\n",
    "gaeCoord=(gaeCoord/0.3).astype(int)\n",
    "\n",
    "feature_names=scaleddata.var.index\n",
    "feature_names=feature_names.astype(str)\n",
    "\n",
    "\n",
    "if not os.path.exists(desavepath):\n",
    "    os.mkdir(desavepath)"
   ]
  },
  {
   "cell_type": "code",
   "execution_count": null,
   "metadata": {},
   "outputs": [],
   "source": [
    "labellist={}\n",
    "for s in sampleidx.keys():\n",
    "    print(s)\n",
    "    if 'disease' in s:\n",
    "        plaqueMaskImg_s=plaqueMaskImg\n",
    "    elif 'control' in s:\n",
    "        plaqueMaskImg_s=None\n",
    "    imgInputnp,labellist[s]=loadImage.load_cellCentroid_plaque(plaqueMaskImg_s,cellCoord[s],sampleidx[s],datadir,diamThresh_mul,ifFlip=False,seed=3,imagename='pi_sum.tif',minmaxscale=True,nchannels=1)\n",
    "    imgInputnp=None"
   ]
  },
  {
   "cell_type": "code",
   "execution_count": 26,
   "metadata": {},
   "outputs": [],
   "source": [
    "def de_singlesample(sample,labels,savepath,feature_names,plotOnly):\n",
    "    if np.unique(labels).shape[0]==1:\n",
    "        return\n",
    "    var = pd.DataFrame(data=feature_names,index=feature_names,columns=['feature_names'])\n",
    "    obs = pd.DataFrame()\n",
    "    obs['clusterLabel']=labels\n",
    "    adata = ad.AnnData(sample, obs=obs.astype('category'),var=var.astype('category'))\n",
    "    if not plotOnly:\n",
    "        scanpy.tl.rank_genes_groups(adata, 'clusterLabel',use_raw=False, method='wilcoxon',pts=True)\n",
    "        with open(os.path.join(savepath), 'wb') as output:\n",
    "            pickle.dump(adata.uns['rank_genes_groups'], output, pickle.HIGHEST_PROTOCOL)\n",
    "    else:\n",
    "        with open(os.path.join(savepath), 'rb') as input:\n",
    "            adata.uns['rank_genes_groups']=pickle.load(input)\n",
    "#     scanpy.tl.filter_rank_genes_groups(adata,groupby='clusterLabel',use_raw=False, min_fold_change=fc,min_in_group_fraction=minIngroup,max_out_group_fraction=maxOutgroup)\n",
    "    genelist=np.array([])\n",
    "#     print(adata.obs['clusterLabel'])\n",
    "    for l in np.unique(labels).astype(str):\n",
    "#         print(l)\n",
    "#         if l==-1:\n",
    "#             continue\n",
    "#         if np.sum(labels.astype(str)==l)<minCell_DE or np.sum(labels.astype(str)!=l)<minCell_DE:\n",
    "#             continue\n",
    "        resl=scanpy.get.rank_genes_groups_df(adata, group=l,pval_cutoff=pvalthresh,gene_symbols='feature_names')\n",
    "#         print(resl)\n",
    "        resl=resl[np.logical_or(resl['logfoldchanges']>np.log2(fc),resl['logfoldchanges']< -np.log2(fc))]\n",
    "#         resl=resl[resl['pts']>minIngroup]\n",
    "        resl=resl.sort_values('pvals_adj',axis=0)\n",
    "        resl=resl.iloc[:np.min([resl.shape[0],ntopgene]),:]\n",
    "        genelist=np.concatenate((genelist,resl['names']))\n",
    "    if genelist.shape[0]==0:\n",
    "        return\n",
    "    scanpy.pl.dotplot(adata,np.unique(genelist),groupby='clusterLabel',use_raw=False,return_fig =True).savefig(savepath+'fc'+str(fc)+'ntop'+str(ntopgene)+'pvalue'+str(pvalthresh)+'.jpg')"
   ]
  },
  {
   "cell_type": "code",
   "execution_count": 40,
   "metadata": {},
   "outputs": [
    {
     "name": "stdout",
     "output_type": "stream",
     "text": [
      "8\n",
      "0\n",
      "Astro\n",
      "[1225  140]\n"
     ]
    },
    {
     "name": "stderr",
     "output_type": "stream",
     "text": [
      "/home/xinyiz/anaconda3/envs/pytorch/lib/python3.8/site-packages/anndata/_core/anndata.py:120: ImplicitModificationWarning: Transforming to str index.\n",
      "  warnings.warn(\"Transforming to str index.\", ImplicitModificationWarning)\n",
      "/home/xinyiz/anaconda3/envs/pytorch/lib/python3.8/site-packages/scanpy/tools/_rank_genes_groups.py:419: RuntimeWarning: invalid value encountered in log2\n",
      "  self.stats[group_name, 'logfoldchanges'] = np.log2(\n"
     ]
    },
    {
     "name": "stdout",
     "output_type": "stream",
     "text": [
      "CA1\n",
      "[1456]\n",
      "CA2\n",
      "[242]\n",
      "CA3\n",
      "DG\n",
      "Endo\n",
      "[789  85]\n",
      "Ex\n",
      "[3940  697]\n"
     ]
    },
    {
     "name": "stderr",
     "output_type": "stream",
     "text": [
      "/home/xinyiz/anaconda3/envs/pytorch/lib/python3.8/site-packages/anndata/_core/anndata.py:120: ImplicitModificationWarning: Transforming to str index.\n",
      "  warnings.warn(\"Transforming to str index.\", ImplicitModificationWarning)\n",
      "/home/xinyiz/anaconda3/envs/pytorch/lib/python3.8/site-packages/scanpy/tools/_rank_genes_groups.py:419: RuntimeWarning: invalid value encountered in log2\n",
      "  self.stats[group_name, 'logfoldchanges'] = np.log2(\n",
      "/home/xinyiz/anaconda3/envs/pytorch/lib/python3.8/site-packages/anndata/_core/anndata.py:120: ImplicitModificationWarning: Transforming to str index.\n",
      "  warnings.warn(\"Transforming to str index.\", ImplicitModificationWarning)\n",
      "/home/xinyiz/anaconda3/envs/pytorch/lib/python3.8/site-packages/scanpy/tools/_rank_genes_groups.py:419: RuntimeWarning: invalid value encountered in log2\n",
      "  self.stats[group_name, 'logfoldchanges'] = np.log2(\n"
     ]
    },
    {
     "name": "stdout",
     "output_type": "stream",
     "text": [
      "Inhi\n",
      "[912  99]\n",
      "LHb\n",
      "Micro\n",
      "[510 177]\n"
     ]
    },
    {
     "name": "stderr",
     "output_type": "stream",
     "text": [
      "/home/xinyiz/anaconda3/envs/pytorch/lib/python3.8/site-packages/anndata/_core/anndata.py:120: ImplicitModificationWarning: Transforming to str index.\n",
      "  warnings.warn(\"Transforming to str index.\", ImplicitModificationWarning)\n",
      "/home/xinyiz/anaconda3/envs/pytorch/lib/python3.8/site-packages/scanpy/tools/_rank_genes_groups.py:419: RuntimeWarning: invalid value encountered in log2\n",
      "  self.stats[group_name, 'logfoldchanges'] = np.log2(\n",
      "/home/xinyiz/anaconda3/envs/pytorch/lib/python3.8/site-packages/anndata/_core/anndata.py:120: ImplicitModificationWarning: Transforming to str index.\n",
      "  warnings.warn(\"Transforming to str index.\", ImplicitModificationWarning)\n",
      "/home/xinyiz/anaconda3/envs/pytorch/lib/python3.8/site-packages/scanpy/tools/_rank_genes_groups.py:419: RuntimeWarning: invalid value encountered in log2\n",
      "  self.stats[group_name, 'logfoldchanges'] = np.log2(\n"
     ]
    },
    {
     "name": "stdout",
     "output_type": "stream",
     "text": [
      "OPC\n",
      "[216  32]\n",
      "Oligo\n",
      "[2030  224]\n"
     ]
    },
    {
     "name": "stderr",
     "output_type": "stream",
     "text": [
      "/home/xinyiz/anaconda3/envs/pytorch/lib/python3.8/site-packages/anndata/_core/anndata.py:120: ImplicitModificationWarning: Transforming to str index.\n",
      "  warnings.warn(\"Transforming to str index.\", ImplicitModificationWarning)\n",
      "/home/xinyiz/anaconda3/envs/pytorch/lib/python3.8/site-packages/scanpy/tools/_rank_genes_groups.py:419: RuntimeWarning: invalid value encountered in log2\n",
      "  self.stats[group_name, 'logfoldchanges'] = np.log2(\n",
      "/home/xinyiz/anaconda3/envs/pytorch/lib/python3.8/site-packages/anndata/_core/anndata.py:120: ImplicitModificationWarning: Transforming to str index.\n",
      "  warnings.warn(\"Transforming to str index.\", ImplicitModificationWarning)\n",
      "/home/xinyiz/anaconda3/envs/pytorch/lib/python3.8/site-packages/scanpy/tools/_rank_genes_groups.py:419: RuntimeWarning: invalid value encountered in log2\n",
      "  self.stats[group_name, 'logfoldchanges'] = np.log2(\n"
     ]
    },
    {
     "name": "stdout",
     "output_type": "stream",
     "text": [
      "SMC\n",
      "[365  31]\n"
     ]
    },
    {
     "name": "stderr",
     "output_type": "stream",
     "text": [
      "/home/xinyiz/anaconda3/envs/pytorch/lib/python3.8/site-packages/anndata/_core/anndata.py:120: ImplicitModificationWarning: Transforming to str index.\n",
      "  warnings.warn(\"Transforming to str index.\", ImplicitModificationWarning)\n",
      "/home/xinyiz/anaconda3/envs/pytorch/lib/python3.8/site-packages/scanpy/tools/_rank_genes_groups.py:419: RuntimeWarning: invalid value encountered in log2\n",
      "  self.stats[group_name, 'logfoldchanges'] = np.log2(\n"
     ]
    },
    {
     "data": {
      "image/png": "[encoded data removed]",
      "text/plain": [
       "<Figure size 134.64x180 with 4 Axes>"
      ]
     },
     "metadata": {
      "needs_background": "light"
     },
     "output_type": "display_data"
    },
    {
     "data": {
      "image/png": "[encoded data removed]",
      "text/plain": [
       "<Figure size 507.6x180 with 4 Axes>"
      ]
     },
     "metadata": {
      "needs_background": "light"
     },
     "output_type": "display_data"
    },
    {
     "data": {
      "image/png": "[encoded data removed]",
      "text/plain": [
       "<Figure size 427.68x180 with 4 Axes>"
      ]
     },
     "metadata": {
      "needs_background": "light"
     },
     "output_type": "display_data"
    },
    {
     "data": {
      "image/png": "[encoded data removed]",
      "text/plain": [
       "<Figure size 134.64x180 with 4 Axes>"
      ]
     },
     "metadata": {
      "needs_background": "light"
     },
     "output_type": "display_data"
    }
   ],
   "source": [
    "# inputSamples={'d13':['disease13'],'d8':['disease8'],'disease':['disease13','disease8'],'13':['disease13','control13'],'8':['disease8','control8'],'all':['disease13','control13','disease8','control8']}\n",
    "inputSamples={'8':['disease8','control8']}\n",
    "\n",
    "for inputName in inputSamples.keys():\n",
    "    print(inputName)\n",
    "    samples=inputSamples[inputName]\n",
    "    savepath=os.path.join(desavepath,inputName)\n",
    "    if not os.path.exists(savepath):\n",
    "        os.mkdir(savepath)\n",
    "    \n",
    "    allInputnp=None\n",
    "    allLabelsnp=None\n",
    "    allCoordnp=None\n",
    "    allcelltypebroad=None\n",
    "    allSampleNames=None\n",
    "    for c in np.unique(gaeclusterlabels):\n",
    "        print(c)\n",
    "        savepath_c=os.path.join(savepath,str(int(c)))\n",
    "        if not os.path.exists(savepath_c):\n",
    "            os.mkdir(savepath_c)\n",
    "        for s in samples:\n",
    "            cidx=gaeclusterlabels[sampleNames==s]==c\n",
    "            if allInputnp is None:\n",
    "                allInputnp=featureslist[s][cidx]\n",
    "                allLabelsnp=labellist[s][cidx]\n",
    "                allCoordnp=gaeCoord[sampleNames==s][cidx]\n",
    "                allcelltypebroad=scaleddata.obs.loc[scaleddata.obs['sample']==plot_samples[s],'top_level'][cidx]\n",
    "                allSampleNames=np.repeat(s,np.sum(cidx))\n",
    "            else:\n",
    "                allInputnp=np.concatenate((allInputnp,featureslist[s][cidx]))\n",
    "                allLabelsnp=np.concatenate((allLabelsnp,labellist[s][cidx]))\n",
    "                allCoordnp=np.concatenate((allCoordnp,gaeCoord[sampleNames==s][cidx]))\n",
    "                allcelltypebroad=np.concatenate((allcelltypebroad,scaleddata.obs.loc[scaleddata.obs['sample']==plot_samples[s],'top_level'][cidx]))\n",
    "                allSampleNames=np.concatenate((allSampleNames,np.repeat(s,np.sum(cidx))))\n",
    "#             print(allLabelsnp.shape)\n",
    "        for ct in np.unique(allcelltypebroad):\n",
    "            print(ct)\n",
    "            savepath_ct=os.path.join(savepath_c,ct)\n",
    "            ctidx=(allcelltypebroad==ct)\n",
    "            labels_ct=allLabelsnp[ctidx]\n",
    "            labels_ct_binary=np.where(labels_ct>0,'pos','neg')\n",
    "            _,labelcounts=np.unique(labels_ct_binary,return_counts=True)\n",
    "            if np.sum(labelcounts>minCell_DE)<labelcounts.size:\n",
    "                continue\n",
    "            print(labelcounts)\n",
    "            de_singlesample(allInputnp[ctidx],labels_ct_binary,savepath_ct,feature_names,False)"
   ]
  }
 ],
 "metadata": {
  "kernelspec": {
   "display_name": "Python 3 (ipykernel)",
   "language": "python",
   "name": "python3"
  },
  "language_info": {
   "codemirror_mode": {
    "name": "ipython",
    "version": 3
   },
   "file_extension": ".py",
   "mimetype": "text/x-python",
   "name": "python",
   "nbconvert_exporter": "python",
   "pygments_lexer": "ipython3",
   "version": "3.8.12"
  }
 },
 "nbformat": 4,
 "nbformat_minor": 4
}
