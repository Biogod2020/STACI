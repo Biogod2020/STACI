{
 "cells": [
  {
   "cell_type": "code",
   "execution_count": 45,
   "metadata": {},
   "outputs": [],
   "source": [
    "import scanpy\n",
    "import scipy.sparse as sp\n",
    "import os\n",
    "import numpy as np\n",
    "from scipy.spatial import Delaunay\n",
    "import pandas as pd \n",
    "from sklearn.neighbors import NearestNeighbors"
   ]
  },
  {
   "cell_type": "code",
   "execution_count": null,
   "metadata": {},
   "outputs": [],
   "source": [
    "f3000=scanpy.read_loom('/nfs/latdata/xinyi/slideseq/seuratresults/slideseq3000feature/slideseq3000feature_nograph.loom',sparse=True)\n"
   ]
  },
  {
   "cell_type": "code",
   "execution_count": null,
   "metadata": {},
   "outputs": [
    {
     "name": "stderr",
     "output_type": "stream",
     "text": [
      "/home/xinyizxx/anaconda3/envs/conda_env/lib/python3.7/site-packages/loompy/loom_validator.py:48: H5pyDeprecationWarning: The default file mode will change to 'r' (read-only) in h5py 3.0. To suppress this warning, pass the mode you need to h5py.File(), or set the global default h5.get_config().default_file_mode, or set the environment variable H5PY_DEFAULT_READONLY=1. Available modes are: 'r', 'r+', 'w', 'w-'/'x', 'a'. See the docs for details.\n",
      "  with h5py.File(path) as f:\n"
     ]
    }
   ],
   "source": [
    "f5000=scanpy.read_loom('/nfs/latdata/xinyi/slideseq/seuratresults/slideseq5000feature/slideseq5000feature.loom',sparse=True)"
   ]
  },
  {
   "cell_type": "code",
   "execution_count": 34,
   "metadata": {},
   "outputs": [],
   "source": [
    "f3000_coord=pd.read_csv('/nfs/latdata/xinyi/slideseq/seuratresults/slideseq3000feature/coordinates.csv')\n",
    "f5000_coord=pd.read_csv('/nfs/latdata/xinyi/slideseq/seuratresults/slideseq5000feature/coordinates.csv')"
   ]
  },
  {
   "cell_type": "code",
   "execution_count": 5,
   "metadata": {},
   "outputs": [],
   "source": [
    "def subsetX_varFeature(sobj,savepath=None):\n",
    "    \"\"\"\n",
    "    param sobj: seurat object saved as loom, imported as anndata by scanpy\n",
    "    \"\"\"\n",
    "    sobj_Xvar=sobj.X[:,np.nonzero(sobj.var.Selected.to_numpy())[0]]\n",
    "    if savepath != None:\n",
    "        sp.save_npz(savepath,sobj_Xvar)\n",
    "    return sobj_Xvar\n",
    "\n",
    "def subsetX_varSpatial(sobj,savepath=None):\n",
    "    sobj_Xspvar=sobj.X[:,np.where(f3000.var.moransi_spatially_variable.to_numpy()==1)[0]]\n",
    "    if savepath !=None:\n",
    "        sp.save_npz(savepath,sobj_Xspvar)\n",
    "    return sobj_Xspvar\n",
    "def savefullX(sobj,savepath):\n",
    "    sp.save_npz(savepath,sobj.X)"
   ]
  },
  {
   "cell_type": "code",
   "execution_count": 57,
   "metadata": {},
   "outputs": [],
   "source": [
    "def getA_delaunay(sobj_coordMtx,savepath=None):\n",
    "    a_size=sobj_coordMtx.shape[0]\n",
    "    a=sp.lil_matrix((a_size,a_size))\n",
    "    \n",
    "    sobj_coord_np=sobj_coordMtx.loc[:,['x','y']].to_numpy()\n",
    "    tri = Delaunay(sobj_coord_np)\n",
    "    \n",
    "    for tri_i in range(tri.simplices.shape[0]):\n",
    "        tri_i_idx=tri.simplices[tri_i,:]\n",
    "        a[tri_i_idx[0],tri_i_idx[1]]=1\n",
    "        a[tri_i_idx[1],tri_i_idx[0]]=1\n",
    "        a[tri_i_idx[0],tri_i_idx[2]]=1\n",
    "        a[tri_i_idx[2],tri_i_idx[0]]=1\n",
    "        a[tri_i_idx[1],tri_i_idx[2]]=1\n",
    "        a[tri_i_idx[2],tri_i_idx[1]]=1\n",
    "    \n",
    "    a=a.tocsr()\n",
    "    if savepath !=None:\n",
    "        sp.save_npz(savepath,a)\n",
    "    return a\n",
    "\n",
    "def getA_knn(sobj_coordMtx,k,a_mode,savepath=None):\n",
    "    sobj_coord_np=sobj_coordMtx.loc[:,['x','y']].to_numpy()\n",
    "    nbrs = NearestNeighbors(n_neighbors=k, algorithm='ball_tree').fit(sobj_coord_np)\n",
    "    a=nbrs.kneighbors_graph(sobj_coord_np,mode=a_mode)\n",
    "    if a_mode=='connectivity':\n",
    "        a=a-sp.identity(sobj_coordMtx.shape[0],format='csr')\n",
    "    if savepath !=None:\n",
    "        sp.save_npz(savepath,a)\n",
    "    return a"
   ]
  },
  {
   "cell_type": "code",
   "execution_count": 20,
   "metadata": {},
   "outputs": [],
   "source": [
    "xsavepath=os.path.join('/nfs','latdata','xinyi','slideseq','xamatrices','x')\n",
    "f3000_XvarF=subsetX_varFeature(f3000,os.path.join(xsavepath,'f3000_XvarFeatures.npz'))\n",
    "f3000_XspvarF=subsetX_varSpatial(f3000,os.path.join(xsavepath,'f3000_XvarFeaturesSpatial.npz'))\n",
    "savefullX(f3000,os.path.join(xsavepath,'f3000_fullX.npz'))\n",
    "f5000_XvarF=subsetX_varFeature(f5000,os.path.join(xsavepath,'f5000_XvarFeatures.npz'))\n",
    "f5000_XspvarF=subsetX_varSpatial(f5000,os.path.join(xsavepath,'f5000_XvarFeaturesSpatial.npz'))\n"
   ]
  },
  {
   "cell_type": "code",
   "execution_count": 58,
   "metadata": {},
   "outputs": [],
   "source": [
    "asavepath=os.path.join('/nfs','latdata','xinyi','slideseq','xamatrices','a')\n",
    "f3000_a={}\n",
    "f3000_a['f3000_a_delaunay']=getA_delaunay(f3000_coord,os.path.join(asavepath,'f3000_a_delaunay.npz'))\n",
    "f3000_a['f3000_a_knn5_connectivity']=getA_knn(f3000_coord,5,'connectivity',os.path.join(asavepath,'f3000_knn5_connectivity.npz'))\n",
    "f3000_a['f3000_a_knn5_distance']=getA_knn(f3000_coord,5,'distance',os.path.join(asavepath,'f3000_knn5_distance.npz'))\n",
    "f3000_a['f3000_a_knn10_connectivity']=getA_knn(f3000_coord,10,'connectivity',os.path.join(asavepath,'f3000_knn10_connectivity.npz'))\n",
    "f3000_a['f3000_a_knn10_distance']=getA_knn(f3000_coord,10,'distance',os.path.join(asavepath,'f3000_knn10_distance.npz'))\n",
    "f3000_a['f3000_a_knn20_connectivity']=getA_knn(f3000_coord,20,'connectivity',os.path.join(asavepath,'f3000_knn20_connectivity.npz'))\n",
    "f3000_a['f3000_a_knn20_distance']=getA_knn(f3000_coord,20,'distance',os.path.join(asavepath,'f3000_knn20_distance.npz'))\n",
    "\n",
    "f5000_a={}\n",
    "f5000_a['f5000_a_delaunay']=getA_delaunay(f5000_coord,os.path.join(asavepath,'f5000_a_delaunay.npz'))\n",
    "f5000_a['f5000_a_knn5_connectivity']=getA_knn(f5000_coord,5,'connectivity',os.path.join(asavepath,'f5000_knn5_connectivity.npz'))\n",
    "f5000_a['f5000_a_knn5_distance']=getA_knn(f5000_coord,5,'distance',os.path.join(asavepath,'f5000_knn5_distance.npz'))\n",
    "f5000_a['f5000_a_knn10_connectivity']=getA_knn(f5000_coord,10,'connectivity',os.path.join(asavepath,'f5000_knn10_connectivity.npz'))\n",
    "f5000_a['f5000_a_knn10_distance']=getA_knn(f5000_coord,10,'distance',os.path.join(asavepath,'f5000_knn10_distance.npz'))\n",
    "f5000_a['f5000_a_knn20_connectivity']=getA_knn(f5000_coord,20,'connectivity',os.path.join(asavepath,'f5000_knn20_connectivity.npz'))\n",
    "f5000_a['f5000_a_knn20_distance']=getA_knn(f5000_coord,20,'distance',os.path.join(asavepath,'f5000_knn20_distance.npz'))\n"
   ]
  },
  {
   "cell_type": "code",
   "execution_count": 37,
   "metadata": {},
   "outputs": [
    {
     "data": {
      "text/plain": [
       "(53173, 4)"
      ]
     },
     "execution_count": 37,
     "metadata": {},
     "output_type": "execute_result"
    }
   ],
   "source": []
  }
 ],
 "metadata": {
  "kernelspec": {
   "display_name": "Python 3",
   "language": "python",
   "name": "python3"
  },
  "language_info": {
   "codemirror_mode": {
    "name": "ipython",
    "version": 3
   },
   "file_extension": ".py",
   "mimetype": "text/x-python",
   "name": "python",
   "nbconvert_exporter": "python",
   "pygments_lexer": "ipython3",
   "version": "3.7.9"
  }
 },
 "nbformat": 4,
 "nbformat_minor": 2
}
