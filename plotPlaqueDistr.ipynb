{
 "cells": [
  {
   "cell_type": "code",
   "execution_count": 1,
   "metadata": {},
   "outputs": [],
   "source": [
    "import sys\n",
    "sys.path.append('/home/xinyiz/pamrats')"
   ]
  },
  {
   "cell_type": "code",
   "execution_count": 7,
   "metadata": {},
   "outputs": [],
   "source": [
    "import time\n",
    "import os\n",
    "\n",
    "import scanpy\n",
    "import numpy as np\n",
    "import scipy.sparse as sp\n",
    "\n",
    "import torch\n",
    "from torch import optim\n",
    "from torch.utils.data import DataLoader\n",
    "# from sklearn.metrics import roc_auc_score\n",
    "# from sklearn.metrics import average_precision_score\n",
    "\n",
    "import image.loadImage as loadImage\n",
    "import gae.gae.optimizer as optimizer\n",
    "import gae.gae.model\n",
    "import gae.gae.preprocessing as preprocessing\n",
    "import image.modelsCNN as modelsCNN\n",
    "\n",
    "import pickle\n",
    "import matplotlib.pyplot as plt\n",
    "import seaborn as sns\n",
    "import pandas as pd\n",
    "import matplotlib.colors\n",
    "from sklearn.preprocessing import MinMaxScaler\n",
    "import anndata as ad\n",
    "from sklearn.metrics import pairwise_distances"
   ]
  },
  {
   "cell_type": "code",
   "execution_count": 3,
   "metadata": {},
   "outputs": [],
   "source": [
    "imageSizes={}\n",
    "imageSizes['disease13']=(22210, 22344)\n",
    "imageSizes['control13']=(22355, 18953)\n",
    "imageSizes['disease8']=(22294, 19552)\n",
    "imageSizes['control8']=(22452, 19616)\n",
    "\n",
    "plaqueMaskName='PlaqueMask6'\n",
    "plaqueMaskImg='Maskofplaque6.tif'\n",
    "lossThreshSize=1111\n",
    "hiddendim=6000\n",
    "useSavedMaskedEdges=True\n",
    "use_cuda=True"
   ]
  },
  {
   "cell_type": "code",
   "execution_count": 5,
   "metadata": {},
   "outputs": [],
   "source": [
    "datadir='/home/xinyiz/2021-01-13-mAD-test-dataset'\n",
    "\n",
    "gaeClusterPath='/mnt/external_ssd/xinyi/plots/train_gae_starmap/allk20XA_02_dca_over/combinedlogminmax_beforeAct/cluster/leiden_nn10mdist025n_pcs40res0.1epoch9990'\n",
    "with open(gaeClusterPath, 'rb') as input:\n",
    "    gaeclusterlabels = pickle.load(input)\n",
    "\n",
    "plot_samples={'disease13':'AD_mouse9494','control13':'AD_mouse9498','disease8':'AD_mouse9723','control8':'AD_mouse9735'}\n",
    "\n",
    "gaeCoord=None\n",
    "sampleNames=None\n",
    "scaleddata=scanpy.read_h5ad(datadir+'/2020-12-27-starmap-mAD-raw.h5ad')\n",
    "for s in plot_samples.keys():\n",
    "    sampleidx_s=plot_samples[s] \n",
    "    if gaeCoord is None:\n",
    "        gaeCoord=scaleddata.obs.loc[scaleddata.obs['sample']==sampleidx_s,['y','x']].to_numpy()\n",
    "        sampleNames=np.repeat(s,np.sum(scaleddata.obs['sample']==sampleidx_s))\n",
    "    else:\n",
    "        gaeCoord=np.concatenate((gaeCoord,scaleddata.obs.loc[scaleddata.obs['sample']==sampleidx_s,['y','x']].to_numpy()),axis=0)\n",
    "        sampleNames=np.concatenate((sampleNames,np.repeat(s,np.sum(scaleddata.obs['sample']==sampleidx_s))),axis=None)\n",
    "gaeCoord=(gaeCoord/0.3).astype(int)\n",
    "feature_names=scaleddata.var.index\n",
    "feature_names=feature_names.astype(str)\n"
   ]
  },
  {
   "cell_type": "code",
   "execution_count": 40,
   "metadata": {},
   "outputs": [
    {
     "data": {
      "image/png": "[encoded data removed]",
      "text/plain": [
       "<Figure size 864x144 with 1 Axes>"
      ]
     },
     "metadata": {
      "needs_background": "light"
     },
     "output_type": "display_data"
    }
   ],
   "source": [
    "c0='0'\n",
    "c1='1'\n",
    "c3='3'\n",
    "a0=215897\n",
    "a1= 236653\n",
    "a3= 166213\n",
    "areasum=a0+a1+a3\n",
    "a0=(areasum)/a0\n",
    "a1=(areasum)/a1\n",
    "a3=(areasum)/a3\n",
    "s8='disease8'\n",
    "# s13='disease13'\n",
    "idx08=gaeclusterlabels[sampleNames==s8]==c0\n",
    "idx18=gaeclusterlabels[sampleNames==s8]==c1\n",
    "idx38=gaeclusterlabels[sampleNames==s8]==c3\n",
    "# idx013=gaeclusterlabels[sampleNames==s13]==c0\n",
    "# idx113=gaeclusterlabels[sampleNames==s13]==c1\n",
    "res=[list(np.array(labellist[s8][idx08])+1),list(np.array(labellist[s8][idx38])+1),list(np.array(labellist[s8][idx18])+1)]\n",
    "plt.rcParams[\"figure.figsize\"] = (12,2)\n",
    "plt.rc('xtick', labelsize=15) \n",
    "plt.rc('ytick', labelsize=15) \n",
    "# numbers=plt.hist(res,20)\n",
    "plt.yscale('log',base=2)\n",
    "numbers8=plt.hist(res,bins=20,weights=[list(np.repeat(a0,np.array(labellist[s8][idx08]).size)),list(np.repeat(a3,np.array(labellist[s8][idx38]).size)),list(np.repeat(a1,np.array(labellist[s8][idx18]).size))])\n",
    "plt.legend(['cluster 1','cluster 2','cluster 3'],fontsize=12)\n",
    "# plt.xlabel('plaque size')\n",
    "# plt.ylabel('log2 number of plaque')\n",
    "plt.tight_layout()\n",
    "plt.savefig('/mnt/external_ssd/xinyi/plots/data/plaqueDistr_logy_d8_wc3_areaNorm.tif',dpi=300)"
   ]
  },
  {
   "cell_type": "code",
   "execution_count": 88,
   "metadata": {},
   "outputs": [
    {
     "data": {
      "image/png": "[encoded data removed]",
      "text/plain": [
       "<Figure size 864x144 with 1 Axes>"
      ]
     },
     "metadata": {
      "needs_background": "light"
     },
     "output_type": "display_data"
    }
   ],
   "source": [
    "#corrected area; previous version used d8 area\n",
    "c0='0'\n",
    "c1='1'\n",
    "c3='3'\n",
    "a0=209790\n",
    "a1= 149957\n",
    "a3= 190885\n",
    "areasum=a0+a1+a3\n",
    "a0=(areasum)/a0\n",
    "a1=(areasum)/a1\n",
    "a3=(areasum)/a3\n",
    "# s8='disease8'\n",
    "s13='disease13'\n",
    "# idx08=gaeclusterlabels[sampleNames==s8]==c0\n",
    "# idx18=gaeclusterlabels[sampleNames==s8]==c1\n",
    "idx013=gaeclusterlabels[sampleNames==s13]==c0\n",
    "idx113=gaeclusterlabels[sampleNames==s13]==c1\n",
    "idx313=gaeclusterlabels[sampleNames==s13]==c3\n",
    "res=[list(np.array(labellist[s13][idx013])+1),list(np.array(labellist[s13][idx313])+1),list(np.array(labellist[s13][idx113])+1)]\n",
    "plt.rcParams[\"figure.figsize\"] = (12,2)\n",
    "plt.rc('xtick', labelsize=15) \n",
    "plt.rc('ytick', labelsize=15)\n",
    "# numbers=plt.hist(res,20)\n",
    "# plt.xscale('log',base=2)\n",
    "plt.yscale('log',base=2)\n",
    "numbers13=plt.hist(res,bins=20,weights=[list(np.repeat(a0,np.array(labellist[s13][idx013]).size)),list(np.repeat(a3,np.array(labellist[s13][idx313]).size)),list(np.repeat(a1,np.array(labellist[s13][idx113]).size))])\n",
    "plt.legend(['cluster 1','cluster 2','cluster 3'],fontsize=12)\n",
    "# plt.xlabel('plaque size')\n",
    "# plt.ylabel('log2 number of plaque')\n",
    "plt.tight_layout()\n",
    "plt.savefig('/mnt/external_ssd/xinyi/plots/data/plaqueDistr_logy_d13_wc3_areaNorm.tif',dpi=300)"
   ]
  },
  {
   "cell_type": "code",
   "execution_count": 36,
   "metadata": {},
   "outputs": [],
   "source": [
    "import scipy.stats"
   ]
  },
  {
   "cell_type": "code",
   "execution_count": 49,
   "metadata": {},
   "outputs": [
    {
     "data": {
      "text/plain": [
       "Ttest_relResult(statistic=-2.727205561138928, pvalue=0.006914048671314312)"
      ]
     },
     "execution_count": 49,
     "metadata": {},
     "output_type": "execute_result"
    }
   ],
   "source": [
    "scipy.stats.ttest_rel(numbers8[0][0][1:].flatten(),numbers8[0][2][1:].flatten(),alternative='less')"
   ]
  },
  {
   "cell_type": "code",
   "execution_count": 89,
   "metadata": {},
   "outputs": [
    {
     "data": {
      "text/plain": [
       "Ttest_indResult(statistic=-18.0333092774563, pvalue=1.7419026860981267e-68)"
      ]
     },
     "execution_count": 89,
     "metadata": {},
     "output_type": "execute_result"
    }
   ],
   "source": [
    "scipy.stats.ttest_ind(labellist[s13][idx013],labellist[s13][idx113])"
   ]
  },
  {
   "cell_type": "code",
   "execution_count": 90,
   "metadata": {},
   "outputs": [
    {
     "data": {
      "text/plain": [
       "Ttest_indResult(statistic=-2.7395043090669047, pvalue=0.006197622633723589)"
      ]
     },
     "execution_count": 90,
     "metadata": {},
     "output_type": "execute_result"
    }
   ],
   "source": [
    "scipy.stats.ttest_ind(labellist[s13][idx013],labellist[s13][idx313])"
   ]
  },
  {
   "cell_type": "code",
   "execution_count": 50,
   "metadata": {},
   "outputs": [
    {
     "data": {
      "text/plain": [
       "Ttest_indResult(statistic=-9.2751594104501, pvalue=3.283175554723873e-20)"
      ]
     },
     "execution_count": 50,
     "metadata": {},
     "output_type": "execute_result"
    }
   ],
   "source": [
    "scipy.stats.ttest_ind(labellist[s8][idx08],labellist[s8][idx18])"
   ]
  },
  {
   "cell_type": "code",
   "execution_count": 56,
   "metadata": {},
   "outputs": [
    {
     "data": {
      "text/plain": [
       "Ttest_indResult(statistic=-3.5301949560973465, pvalue=0.0004228077346633263)"
      ]
     },
     "execution_count": 56,
     "metadata": {},
     "output_type": "execute_result"
    }
   ],
   "source": [
    "scipy.stats.ttest_ind(labellist[s8][idx08],labellist[s8][idx38])"
   ]
  }
 ],
 "metadata": {
  "kernelspec": {
   "display_name": "Python 3 (ipykernel)",
   "language": "python",
   "name": "python3"
  },
  "language_info": {
   "codemirror_mode": {
    "name": "ipython",
    "version": 3
   },
   "file_extension": ".py",
   "mimetype": "text/x-python",
   "name": "python",
   "nbconvert_exporter": "python",
   "pygments_lexer": "ipython3",
   "version": "3.8.12"
  }
 },
 "nbformat": 4,
 "nbformat_minor": 4
}
