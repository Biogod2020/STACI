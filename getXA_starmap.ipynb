{
 "cells": [
  {
   "cell_type": "code",
   "execution_count": 1,
   "metadata": {},
   "outputs": [],
   "source": [
    "import scanpy\n",
    "import scipy.sparse as sp\n",
    "import os\n",
    "import numpy as np\n",
    "from scipy.spatial import Delaunay\n",
    "import pandas as pd \n",
    "from sklearn.neighbors import NearestNeighbors\n",
    "from sklearn.metrics.pairwise import euclidean_distances\n",
    "from matplotlib import pyplot as plt\n",
    "import matplotlib.image as mpimg\n",
    "from PIL import Image  \n",
    "Image.MAX_IMAGE_PIXELS = None"
   ]
  },
  {
   "cell_type": "code",
   "execution_count": 2,
   "metadata": {},
   "outputs": [],
   "source": [
    "scaleddata=scanpy.read_h5ad('/mnt/xinyi/2021-01-13-mAD-test-dataset/2020-12-27-starmap-mAD-scaled.h5ad')\n",
    "# rawdata=scanpy.read_h5ad('/mnt/xinyi/2021-01-13-mAD-test-dataset/2020-12-27-starmap-mAD-raw.h5ad')"
   ]
  },
  {
   "cell_type": "code",
   "execution_count": 3,
   "metadata": {},
   "outputs": [],
   "source": [
    "asavepath=os.path.join('/mnt/xinyi/','starmap','a')\n",
    "proteinsavepath=os.path.join('/mnt/xinyi/','starmap','protein')"
   ]
  },
  {
   "cell_type": "code",
   "execution_count": 10,
   "metadata": {},
   "outputs": [],
   "source": [
    "def getA_delaunay(samplename,savepath=None):\n",
    "    a_size=scaleddata.shape[0]\n",
    "    a=sp.lil_matrix((a_size,a_size))\n",
    "    \n",
    "    sobj_coord_np=scaleddata.obs.loc[scaleddata.obs['sample']==samplename,['x','y']].to_numpy()\n",
    "    tri = Delaunay(sobj_coord_np)\n",
    "    \n",
    "    a_size=sobj_coord_np.shape[0]\n",
    "    a=sp.lil_matrix((a_size,a_size))\n",
    "    for tri_i in range(tri.simplices.shape[0]):\n",
    "        tri_i_idx=tri.simplices[tri_i,:]\n",
    "        a[tri_i_idx[0],tri_i_idx[1]]=1\n",
    "        a[tri_i_idx[1],tri_i_idx[0]]=1\n",
    "        a[tri_i_idx[0],tri_i_idx[2]]=1\n",
    "        a[tri_i_idx[2],tri_i_idx[0]]=1\n",
    "        a[tri_i_idx[1],tri_i_idx[2]]=1\n",
    "        a[tri_i_idx[2],tri_i_idx[1]]=1\n",
    "    \n",
    "    a=a.tocsr()\n",
    "    if savepath !=None:\n",
    "        sp.save_npz(savepath,a)\n",
    "    return a\n",
    "\n",
    "def getA_knn(samplename,k,a_mode,savepath=None):\n",
    "    sobj_coord_np=scaleddata.obs.loc[scaleddata.obs['sample']==samplename,['x','y']].to_numpy()\n",
    "    nbrs = NearestNeighbors(n_neighbors=k, algorithm='ball_tree').fit(sobj_coord_np)\n",
    "    a=nbrs.kneighbors_graph(sobj_coord_np,mode=a_mode)\n",
    "    if a_mode=='connectivity':\n",
    "        a=a-sp.identity(sobj_coord_np.shape[0],format='csr')\n",
    "    if a_mode=='distance':\n",
    "        a[a!=0]=1/a[a!=0]\n",
    "    if savepath !=None:\n",
    "        sp.save_npz(savepath,a)\n",
    "    return a"
   ]
  },
  {
   "cell_type": "code",
   "execution_count": 27,
   "metadata": {},
   "outputs": [],
   "source": [
    "def getA_physicalDist(samplename,distThresh,a_mode,savepath=None):\n",
    "    sobj_coord_np=scaleddata.obs.loc[scaleddata.obs['sample']==samplename,['x','y']].to_numpy()\n",
    "    allDist=euclidean_distances(sobj_coord_np,sobj_coord_np)\n",
    "    minDist=np.min(allDist[allDist != 0])\n",
    "    thresh=distThresh*minDist\n",
    "    a=np.zeros_like(allDist)\n",
    "    edgeIdx=np.logical_and(allDist<thresh,allDist!=0)\n",
    "    if a_mode=='connectivity':\n",
    "        a[edgeIdx]=1\n",
    "    elif a_mode=='distance':\n",
    "        a[edgeIdx]=1/allDist[edgeIdx]\n",
    "    else:\n",
    "        print('a mode not supported')\n",
    "    a=sp.csr_matrix(a)\n",
    "    if savepath !=None:\n",
    "        sp.save_npz(savepath,a)\n",
    "    return a"
   ]
  },
  {
   "cell_type": "code",
   "execution_count": null,
   "metadata": {},
   "outputs": [],
   "source": [
    "def getPixByDist(img,Ithresh,distList,savepath):\n",
    "    "
   ]
  },
  {
   "cell_type": "code",
   "execution_count": 11,
   "metadata": {},
   "outputs": [],
   "source": [
    "for samplename in ['AD_mouse9494','AD_mouse9498','AD_mouse9723','AD_mouse9735']:\n",
    "#     getA_delaunay(samplename,os.path.join(asavepath,'a_delaunay_'+samplename+'.npz'))\n",
    "#     getA_knn(samplename,5,'connectivity',os.path.join(asavepath,'knn5_connectivity_'+samplename+'.npz'))\n",
    "    getA_knn(samplename,5,'distance',os.path.join(asavepath,'knn5_distance_'+samplename+'.npz'))\n",
    "#     getA_knn(samplename,10,'connectivity',os.path.join(asavepath,'knn10_connectivity_'+samplename+'.npz'))\n",
    "    getA_knn(samplename,10,'distance',os.path.join(asavepath,'knn10_distance_'+samplename+'.npz'))\n",
    "#     getA_knn(samplename,20,'connectivity',os.path.join(asavepath,'knn20_connectivity_'+samplename+'.npz'))\n",
    "    getA_knn(samplename,20,'distance',os.path.join(asavepath,'knn20_distance_'+samplename+'.npz'))\n"
   ]
  },
  {
   "cell_type": "code",
   "execution_count": 28,
   "metadata": {},
   "outputs": [],
   "source": [
    "for samplename in ['AD_mouse9494','AD_mouse9498','AD_mouse9723','AD_mouse9735']:\n",
    "    for d in [2,3,4,5]:\n",
    "        getA_physicalDist(samplename,d,'connectivity',os.path.join(asavepath,'physicalDist_'+str(d)+'_connectivity_'+samplename+'.npz'))\n",
    "        getA_physicalDist(samplename,d,'distance',os.path.join(asavepath,'physicalDist_'+str(d)+'_distance_'+samplename+'.npz'))"
   ]
  },
  {
   "cell_type": "code",
   "execution_count": 29,
   "metadata": {},
   "outputs": [],
   "source": [
    "testa=sp.load_npz(os.path.join(asavepath,'physicalDist_3_connectivity_AD_mouse9494.npz'))"
   ]
  },
  {
   "cell_type": "code",
   "execution_count": 38,
   "metadata": {},
   "outputs": [
    {
     "data": {
      "text/plain": [
       "(array([2.954e+03, 2.746e+03, 1.698e+03, 9.090e+02, 0.000e+00, 7.110e+02,\n",
       "        6.080e+02, 3.180e+02, 7.500e+01, 2.000e+00]),\n",
       " array([0. , 0.8, 1.6, 2.4, 3.2, 4. , 4.8, 5.6, 6.4, 7.2, 8. ]),\n",
       " <BarContainer object of 10 artists>)"
      ]
     },
     "execution_count": 38,
     "metadata": {},
     "output_type": "execute_result"
    },
    {
     "data": {
      "image/png": "[encoded data removed]",
      "text/plain": [
       "<Figure size 432x288 with 1 Axes>"
      ]
     },
     "metadata": {
      "needs_background": "light"
     },
     "output_type": "display_data"
    }
   ],
   "source": [
    "plt.hist(np.sum(testa.toarray(),1))\n"
   ]
  },
  {
   "cell_type": "code",
   "execution_count": 40,
   "metadata": {},
   "outputs": [
    {
     "data": {
      "text/plain": [
       "(array([1779., 2935., 2017., 1025.,  584.,  445.,  461.,  505.,  237.,\n",
       "          33.]),\n",
       " array([ 0.,  2.,  4.,  6.,  8., 10., 12., 14., 16., 18., 20.]),\n",
       " <BarContainer object of 10 artists>)"
      ]
     },
     "execution_count": 40,
     "metadata": {},
     "output_type": "execute_result"
    },
    {
     "data": {
      "image/png": "[encoded data removed]",
      "text/plain": [
       "<Figure size 432x288 with 1 Axes>"
      ]
     },
     "metadata": {
      "needs_background": "light"
     },
     "output_type": "display_data"
    }
   ],
   "source": [
    "testa=sp.load_npz(os.path.join(asavepath,'physicalDist_5_connectivity_AD_mouse9494.npz'))\n",
    "plt.hist(np.sum(testa.toarray(),1))"
   ]
  },
  {
   "cell_type": "code",
   "execution_count": 41,
   "metadata": {},
   "outputs": [
    {
     "data": {
      "text/plain": [
       "607"
      ]
     },
     "execution_count": 41,
     "metadata": {},
     "output_type": "execute_result"
    }
   ],
   "source": [
    "np.sum(np.sum(testa.toarray(),1)==0)"
   ]
  },
  {
   "cell_type": "code",
   "execution_count": 5,
   "metadata": {},
   "outputs": [
    {
     "name": "stdout",
     "output_type": "stream",
     "text": [
      "AD_mouse9494 13.0\n",
      "AD_mouse9498 14.422205101855956\n",
      "AD_mouse9723 12.727922061357855\n",
      "AD_mouse9735 11.180339887498949\n"
     ]
    }
   ],
   "source": [
    "for samplename in ['AD_mouse9494','AD_mouse9498','AD_mouse9723','AD_mouse9735']:\n",
    "    sobj_coord_np=scaleddata.obs.loc[scaleddata.obs['sample']==samplename,['x','y']].to_numpy()\n",
    "    allDist=euclidean_distances(sobj_coord_np,sobj_coord_np)\n",
    "    minDist=np.min(allDist[allDist != 0])\n",
    "    print(samplename,minDist)"
   ]
  },
  {
   "cell_type": "code",
   "execution_count": 6,
   "metadata": {},
   "outputs": [],
   "source": [
    "for samplename in ['AD_mouse9494','AD_mouse9498','AD_mouse9723','AD_mouse9735']:\n",
    "    PlaqueintensityThresh=30\n",
    "    TauintensityThresh=30\n",
    "    PlaqueDistList_scaled=[32,64,96,128,160,192]\n",
    "    TauDistList_scaled=[3,6,12,24,48,96]\n",
    "    datapath='/mnt/xinyi/2021-01-13-mAD-test-dataset/'\n",
    "    cellCoord=scaleddata.obs.loc[scaleddata.obs['sample']==samplename,['x','y']].to_numpy()\n",
    "    plaquePath_scaled=os.path.join(datapath,samplename,'segmentation/scaled','plaque.tif')\n",
    "    tauPath_scaled=os.path.join(datapath,samplename,'segmentation/scaled','tau.tif')\n",
    "    ps=mpimg.imread(plaquePath_scaled).copy()\n",
    "    ts=mpimg.imread(tauPath_scaled).copy()\n",
    "    ps[ps<PlaqueintensityThresh]=0\n",
    "    ts[ts<TauintensityThresh]=0\n",
    "    ps[ps>=PlaqueintensityThresh]=1\n",
    "    ts[ts>=TauintensityThresh]=1\n",
    "    plaquePixBinary=np.zeros((cellCoord.shape[0],len(PlaqueDistList_scaled)))\n",
    "    tauPixBinary=np.zeros((cellCoord.shape[0],len(TauDistList_scaled)))\n",
    "    for c in range(cellCoord.shape[0]):\n",
    "        prePlaque=0\n",
    "        preParea=0\n",
    "        for p in range(len(PlaqueDistList_scaled)):\n",
    "            pdist=PlaqueDistList_scaled[p]\n",
    "            currPlaque=np.sum(ps[max(0,cellCoord[c,1]-pdist):min(ps.shape[0],cellCoord[c,1]+pdist),max(0,cellCoord[c,0]-pdist):min(ps.shape[1],cellCoord[c,0]+pdist)])\n",
    "            currPArea=(min(ps.shape[0],cellCoord[c,1]+pdist)-max(0,cellCoord[c,1]-pdist))*(min(ps.shape[1],cellCoord[c,0]+pdist)-max(0,cellCoord[c,0]-pdist))\n",
    "            plaquePixBinary[c,p]=(currPlaque-prePlaque)/(currPArea-preParea)*np.square(PlaqueDistList_scaled[0])\n",
    "            prePlaque=currPlaque\n",
    "            preParea=currPArea\n",
    "    for c in range(cellCoord.shape[0]):\n",
    "        preTau=0\n",
    "        preTarea=0\n",
    "        for p in range(len(TauDistList_scaled)):\n",
    "            pdist=TauDistList_scaled[p]\n",
    "            currTau=np.sum(ts[max(0,cellCoord[c,1]-pdist):min(ts.shape[0],cellCoord[c,1]+pdist),max(0,cellCoord[c,0]-pdist):min(ts.shape[1],cellCoord[c,0]+pdist)])\n",
    "            currTArea=(min(ts.shape[0],cellCoord[c,1]+pdist)-max(0,cellCoord[c,1]-pdist))*(min(ts.shape[1],cellCoord[c,0]+pdist)-max(0,cellCoord[c,0]-pdist))\n",
    "            tauPixBinary[c,p]=(currTau-preTau)/(currTArea-preTarea)*np.square(TauDistList_scaled[0])\n",
    "            preTau=currTau\n",
    "            preTarea=currTArea\n",
    "    res=np.hstack((plaquePixBinary,tauPixBinary))\n",
    "    res=sp.csr_matrix(res)\n",
    "    sp.save_npz(os.path.join(proteinsavepath,samplename+'_scaled_binary'),res)"
   ]
  },
  {
   "cell_type": "code",
   "execution_count": 5,
   "metadata": {},
   "outputs": [
    {
     "data": {
      "text/plain": [
       "array([[0., 0., 0., 0., 0., 0.],\n",
       "       [0., 0., 0., 0., 0., 0.],\n",
       "       [0., 0., 0., 0., 0., 0.],\n",
       "       ...,\n",
       "       [0., 0., 0., 0., 0., 0.],\n",
       "       [0., 0., 0., 0., 0., 0.],\n",
       "       [0., 0., 0., 0., 0., 0.]])"
      ]
     },
     "execution_count": 5,
     "metadata": {},
     "output_type": "execute_result"
    }
   ],
   "source": [
    "plaquePixBinary"
   ]
  },
  {
   "cell_type": "code",
   "execution_count": 41,
   "metadata": {},
   "outputs": [
    {
     "data": {
      "text/plain": [
       "array([905,   5])"
      ]
     },
     "execution_count": 41,
     "metadata": {},
     "output_type": "execute_result"
    }
   ],
   "source": [
    "cellCoord[0]"
   ]
  },
  {
   "cell_type": "code",
   "execution_count": 42,
   "metadata": {},
   "outputs": [
    {
     "data": {
      "text/plain": [
       "array([2366,    7])"
      ]
     },
     "execution_count": 42,
     "metadata": {},
     "output_type": "execute_result"
    }
   ],
   "source": [
    "cellCoord[1]"
   ]
  },
  {
   "cell_type": "code",
   "execution_count": 30,
   "metadata": {},
   "outputs": [],
   "source": [
    "\n",
    "sobj_coord_np=scaleddata.obs.loc[scaleddata.obs['sample']==samplename,['x','y']].to_numpy()"
   ]
  },
  {
   "cell_type": "code",
   "execution_count": 31,
   "metadata": {},
   "outputs": [
    {
     "name": "stdout",
     "output_type": "stream",
     "text": [
      "5\n",
      "6697\n",
      "5\n",
      "6651\n"
     ]
    }
   ],
   "source": [
    "print(np.min(sobj_coord_np[:,0]))\n",
    "print(np.max(sobj_coord_np[:,0]))\n",
    "print(np.min(sobj_coord_np[:,1]))\n",
    "print(np.max(sobj_coord_np[:,1]))"
   ]
  },
  {
   "cell_type": "code",
   "execution_count": 33,
   "metadata": {},
   "outputs": [],
   "source": [
    "plaquePath_scaled=os.path.join(datapath,samplename,'segmentation/scaled','plaque.tif')\n",
    "tauPath_scaled=os.path.join(datapath,samplename,'segmentation/scaled','tau.tif')\n",
    "ps_scaled=mpimg.imread(plaquePath_scaled).copy()\n",
    "ts_scaled=mpimg.imread(tauPath_scaled).copy()"
   ]
  },
  {
   "cell_type": "code",
   "execution_count": 34,
   "metadata": {},
   "outputs": [
    {
     "data": {
      "text/plain": [
       "(6663, 6703)"
      ]
     },
     "execution_count": 34,
     "metadata": {},
     "output_type": "execute_result"
    }
   ],
   "source": [
    "ps_scaled.shape"
   ]
  },
  {
   "cell_type": "code",
   "execution_count": 35,
   "metadata": {},
   "outputs": [
    {
     "data": {
      "text/plain": [
       "(6663, 6703)"
      ]
     },
     "execution_count": 35,
     "metadata": {},
     "output_type": "execute_result"
    }
   ],
   "source": [
    "ts_scaled.shape"
   ]
  },
  {
   "cell_type": "code",
   "execution_count": 38,
   "metadata": {},
   "outputs": [
    {
     "data": {
      "text/plain": [
       "0.29999104905119944"
      ]
     },
     "execution_count": 38,
     "metadata": {},
     "output_type": "execute_result"
    }
   ],
   "source": [
    "6703/22344"
   ]
  }
 ],
 "metadata": {
  "kernelspec": {
   "display_name": "Python 3",
   "language": "python",
   "name": "python3"
  },
  "language_info": {
   "codemirror_mode": {
    "name": "ipython",
    "version": 3
   },
   "file_extension": ".py",
   "mimetype": "text/x-python",
   "name": "python",
   "nbconvert_exporter": "python",
   "pygments_lexer": "ipython3",
   "version": "3.7.9"
  }
 },
 "nbformat": 4,
 "nbformat_minor": 2
}
