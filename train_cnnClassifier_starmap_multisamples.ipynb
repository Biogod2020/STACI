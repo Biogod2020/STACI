{
 "cells": [
  {
   "cell_type": "code",
   "execution_count": 1,
   "metadata": {},
   "outputs": [],
   "source": [
    "import sys\n",
    "sys.path.append('/home/xinyiz/pamrats')"
   ]
  },
  {
   "cell_type": "code",
   "execution_count": 2,
   "metadata": {},
   "outputs": [],
   "source": [
    "##This is adapted from https://github.com/tkipf/gae/blob/master/gae/train.py and https://github.com/tkipf/pygcn/blob/master/pygcn/train.py##\n",
    "\n",
    "import time\n",
    "import os\n",
    "\n",
    "# Train on CPU (hide GPU) due to memory constraints\n",
    "# os.environ['CUDA_VISIBLE_DEVICES'] = \"\"\n",
    "\n",
    "import scanpy\n",
    "import numpy as np\n",
    "import scipy.sparse as sp\n",
    "\n",
    "import torch\n",
    "from torch import optim\n",
    "from torch.utils.data import DataLoader\n",
    "# from sklearn.metrics import roc_auc_score\n",
    "# from sklearn.metrics import average_precision_score\n",
    "\n",
    "import image.loadImage as loadImage\n",
    "import gae.gae.optimizer as optimizer\n",
    "import image.modelsCNN as modelsCNN\n",
    "\n",
    "import pickle\n",
    "import matplotlib.pyplot as plt\n",
    "import seaborn as sns\n",
    "import pandas as pd\n"
   ]
  },
  {
   "cell_type": "code",
   "execution_count": 3,
   "metadata": {},
   "outputs": [],
   "source": [
    "# Settings\n",
    "os.environ[\"CUDA_VISIBLE_DEVICES\"] = \"0\" \n",
    "use_cuda=True\n",
    "fastmode=False #Validate during training pass\n",
    "seed=3\n",
    "epochs=1000\n",
    "saveFreq=10\n",
    "lr=0.00001 #initial learning rate\n",
    "lr_adv=0.001\n",
    "weight_decay=0 #Weight for L2 loss on embedding matrix.\n",
    "\n",
    "batchsize=16\n",
    "\n",
    "dropout=0.01\n",
    "testNodes=0.1 #fraction of total nodes for testing\n",
    "valNodes=0.05 #fraction of total nodes for validation\n",
    "# randFeatureSubset=None\n",
    "model_str='alexnet'\n",
    "\n",
    "kernel_size=4\n",
    "stride=2\n",
    "padding=1\n",
    "\n",
    "hidden1=64 #Number of channels in hidden layer 1\n",
    "hidden2=128 \n",
    "hidden3=256\n",
    "hidden4=512\n",
    "hidden5=512\n",
    "fc_dim1=512*25*25\n",
    "fc_dim2=1024\n",
    "\n",
    "pretrainedAE=None #{'name':'controlphy5XAbin_01_dca','epoch':9990}\n",
    "# training_samples=['control13','disease13','disease8','control8']\n",
    "training_samples=['disease13','disease13','control13']\n",
    "targetBatch=None\n",
    "switchFreq=10\n",
    "diamThresh_mul=800\n",
    "minThresh_mul=12\n",
    "overlap=int(diamThresh_mul*0.7)\n",
    "areaThresh=diamThresh_mul*diamThresh_mul*0.7\n",
    "name='cd13_thresh25min12_overlap70area70_02'\n",
    "logsavepath='/mnt/external_ssd/xinyi/log/train_cnnClf_starmap/'+name\n",
    "modelsavepath='/mnt/external_ssd/xinyi/models/train_cnnClf_starmap/'+name\n",
    "plotsavepath='/mnt/external_ssd/xinyi/plots/train_cnnClf_starmap/'+name\n",
    "\n",
    "#Load data\n",
    "sampleidx={'disease13':'AD_mouse9494','control13':'AD_mouse9498','disease8':'AD_mouse9723','control8':'AD_mouse9735'}\n",
    "datadir='/home/xinyiz/2021-01-13-mAD-test-dataset'\n",
    "\n",
    "# Set cuda and seed\n",
    "np.random.seed(seed)\n",
    "if use_cuda and (not torch.cuda.is_available()):\n",
    "    print('cuda not available')\n",
    "    use_cuda=False\n",
    "torch.manual_seed(seed)\n",
    "if use_cuda:\n",
    "    torch.cuda.manual_seed(seed)\n",
    "    torch.backends.cudnn.enabled = True\n",
    "\n",
    "# Load data\n",
    "# if randFeatureSubset != None:\n",
    "#     idx=np.random.choice(features.shape[1],randFeatureSubset,replace=False)\n",
    "#     features=features[:,idx]\n"
   ]
  },
  {
   "cell_type": "code",
   "execution_count": 4,
   "metadata": {},
   "outputs": [],
   "source": [
    "plaqueCentroids={}\n",
    "plaqueCentroids['disease13']=pd.read_csv('/home/xinyiz/2021-01-13-mAD-test-dataset/AD_mouse9494/trimmed_images/PlaqueMask.csv', header=0)\n",
    "plaqueCentroids['disease8']=pd.read_csv('/home/xinyiz/2021-01-13-mAD-test-dataset/AD_mouse9723/trimmed_images/PlaqueMask.csv', header=0)\n",
    "maxArea=max(np.max(plaqueCentroids['disease13']['Area']),np.max(plaqueCentroids['disease8']['Area']))\n",
    "plaqueCutoffRadius=max(int(np.sqrt(maxArea)/2),int(diamThresh_mul/2))"
   ]
  },
  {
   "cell_type": "code",
   "execution_count": 5,
   "metadata": {},
   "outputs": [
    {
     "data": {
      "text/plain": [
       "(171, 12)"
      ]
     },
     "execution_count": 5,
     "metadata": {},
     "output_type": "execute_result"
    }
   ],
   "source": [
    "plaqueCentroids['disease8'].shape"
   ]
  },
  {
   "cell_type": "code",
   "execution_count": 6,
   "metadata": {},
   "outputs": [
    {
     "name": "stdout",
     "output_type": "stream",
     "text": [
      "(22210, 22344)\n",
      "plaque1959\n",
      "no plaque2434\n",
      "(22294, 19552)\n",
      "plaque758\n",
      "no plaque3283\n"
     ]
    }
   ],
   "source": [
    "imageslist={}\n",
    "for s in ['disease13','disease8']:\n",
    "    imageslist[s]=loadImage.loadandsplitPlaque_overlap(areaThresh,plaqueCentroids[s][['Y','X']].to_numpy().astype(int),plaqueCutoffRadius,sampleidx[s],datadir,diamThresh_mul,overlap,valNodes,testNodes,ifFlip=False,minCutoff=minThresh_mul,seed=seed,returnPos=True)\n",
    "    "
   ]
  },
  {
   "cell_type": "code",
   "execution_count": 7,
   "metadata": {},
   "outputs": [
    {
     "name": "stdout",
     "output_type": "stream",
     "text": [
      "(22355, 18953)\n",
      "no cells\n",
      "no cells\n",
      "(22452, 19616)\n"
     ]
    }
   ],
   "source": [
    "for s in ['control13','control8']:\n",
    "    imageslist[s]=loadImage.loadandsplit(sampleidx[s],datadir,diamThresh_mul,0,valNodes,testNodes,ifFlip=False,minCutoff=minThresh_mul,seed=seed,clf=True,returnPos=True)\n",
    "    "
   ]
  },
  {
   "cell_type": "code",
   "execution_count": 8,
   "metadata": {},
   "outputs": [],
   "source": [
    "if not os.path.exists(logsavepath):\n",
    "    os.mkdir(logsavepath)\n",
    "if not os.path.exists(modelsavepath):\n",
    "    os.mkdir(modelsavepath)\n",
    "if not os.path.exists(plotsavepath):\n",
    "    os.mkdir(plotsavepath)"
   ]
  },
  {
   "cell_type": "code",
   "execution_count": 9,
   "metadata": {},
   "outputs": [],
   "source": [
    "mse=torch.nn.MSELoss()\n",
    "# mse=torch.nn.MSELoss(reduction=None)\n",
    "# Create model\n",
    "if model_str=='alexnet':\n",
    "    model = modelsCNN.AlexNet(2)\n",
    "    lossCE=torch.nn.CrossEntropyLoss(torch.tensor([1,imageslist['disease13'][3].shape[0]/np.sum(imageslist['disease13'][3])]).cuda().float())\n",
    "\n",
    "if model_str=='cnnvae_clf':\n",
    "    model = modelsCNN.CNN_VAE_clf(kernel_size, stride, padding, 1, hidden1, hidden2, hidden3, hidden4, hidden5, fc_dim1,fc_dim2)\n",
    "    lossCE=torch.nn.CrossEntropyLoss(torch.tensor([1,imageslist['disease13'][3].shape[0]/np.sum(imageslist['disease13'][3])]).cuda().float())\n",
    "\n",
    "if use_cuda:\n",
    "    model.cuda()\n",
    "    \n",
    "optimizer = optim.Adam(model.parameters(), lr=lr, weight_decay=weight_decay)\n"
   ]
  },
  {
   "cell_type": "code",
   "execution_count": 10,
   "metadata": {},
   "outputs": [
    {
     "name": "stdout",
     "output_type": "stream",
     "text": [
      "disease13 Epoch: 0000 loss_train: 0.0414 loss_val: 0.0410\n",
      "disease13 Epoch: 0001 loss_train: 0.0404 loss_val: 0.0405\n",
      "disease13 Epoch: 0002 loss_train: 0.0399 loss_val: 0.0397\n",
      "disease13 Epoch: 0003 loss_train: 0.0390 loss_val: 0.0378\n",
      "disease13 Epoch: 0004 loss_train: 0.0371 loss_val: 0.0357\n",
      "disease13 Epoch: 0005 loss_train: 0.0351 loss_val: 0.0356\n",
      "disease13 Epoch: 0006 loss_train: 0.0343 loss_val: 0.0341\n",
      "disease13 Epoch: 0007 loss_train: 0.0340 loss_val: 0.0334\n",
      "disease13 Epoch: 0008 loss_train: 0.0338 loss_val: 0.0331\n",
      "disease13 Epoch: 0009 loss_train: 0.0337 loss_val: 0.0329\n",
      "disease13 Epoch: 0010 loss_train: 0.0336 loss_val: 0.0329\n",
      "disease13 Epoch: 0011 loss_train: 0.0334 loss_val: 0.0327\n",
      "disease13 Epoch: 0012 loss_train: 0.0333 loss_val: 0.0327\n",
      "disease13 Epoch: 0013 loss_train: 0.0332 loss_val: 0.0326\n",
      "disease13 Epoch: 0014 loss_train: 0.0331 loss_val: 0.0326\n",
      "disease13 Epoch: 0015 loss_train: 0.0330 loss_val: 0.0325\n",
      "disease13 Epoch: 0016 loss_train: 0.0328 loss_val: 0.0325\n",
      "disease13 Epoch: 0017 loss_train: 0.0329 loss_val: 0.0325\n",
      "disease13 Epoch: 0018 loss_train: 0.0328 loss_val: 0.0324\n",
      "disease13 Epoch: 0019 loss_train: 0.0325 loss_val: 0.0325\n",
      "control13 Epoch: 0020 loss_train: 0.0124 loss_val: 0.0004\n",
      "control13 Epoch: 0021 loss_train: 0.0004 loss_val: 0.0002\n",
      "control13 Epoch: 0022 loss_train: 0.0002 loss_val: 0.0001\n",
      "control13 Epoch: 0023 loss_train: 0.0002 loss_val: 0.0001\n",
      "control13 Epoch: 0024 loss_train: 0.0001 loss_val: 0.0001\n",
      "control13 Epoch: 0025 loss_train: 0.0001 loss_val: 0.0000\n",
      "control13 Epoch: 0026 loss_train: 0.0001 loss_val: 0.0000\n",
      "control13 Epoch: 0027 loss_train: 0.0001 loss_val: 0.0000\n",
      "control13 Epoch: 0028 loss_train: 0.0000 loss_val: 0.0000\n",
      "control13 Epoch: 0029 loss_train: 0.0000 loss_val: 0.0000\n",
      "disease13 Epoch: 0030 loss_train: 0.0466 loss_val: 0.0329\n",
      "disease13 Epoch: 0031 loss_train: 0.0329 loss_val: 0.0324\n",
      "disease13 Epoch: 0032 loss_train: 0.0327 loss_val: 0.0323\n",
      "disease13 Epoch: 0033 loss_train: 0.0325 loss_val: 0.0325\n",
      "disease13 Epoch: 0034 loss_train: 0.0326 loss_val: 0.0323\n",
      "disease13 Epoch: 0035 loss_train: 0.0323 loss_val: 0.0321\n",
      "disease13 Epoch: 0036 loss_train: 0.0322 loss_val: 0.0322\n",
      "disease13 Epoch: 0037 loss_train: 0.0321 loss_val: 0.0322\n",
      "disease13 Epoch: 0038 loss_train: 0.0319 loss_val: 0.0321\n",
      "disease13 Epoch: 0039 loss_train: 0.0319 loss_val: 0.0320\n",
      "disease13 Epoch: 0040 loss_train: 0.0317 loss_val: 0.0320\n",
      "disease13 Epoch: 0041 loss_train: 0.0317 loss_val: 0.0319\n",
      "disease13 Epoch: 0042 loss_train: 0.0316 loss_val: 0.0321\n",
      "disease13 Epoch: 0043 loss_train: 0.0314 loss_val: 0.0319\n",
      "disease13 Epoch: 0044 loss_train: 0.0314 loss_val: 0.0318\n",
      "disease13 Epoch: 0045 loss_train: 0.0312 loss_val: 0.0318\n",
      "disease13 Epoch: 0046 loss_train: 0.0311 loss_val: 0.0316\n",
      "disease13 Epoch: 0047 loss_train: 0.0308 loss_val: 0.0316\n",
      "disease13 Epoch: 0048 loss_train: 0.0309 loss_val: 0.0316\n",
      "disease13 Epoch: 0049 loss_train: 0.0306 loss_val: 0.0317\n",
      "control13 Epoch: 0050 loss_train: 0.0126 loss_val: 0.0002\n",
      "control13 Epoch: 0051 loss_train: 0.0002 loss_val: 0.0001\n",
      "control13 Epoch: 0052 loss_train: 0.0002 loss_val: 0.0001\n",
      "control13 Epoch: 0053 loss_train: 0.0001 loss_val: 0.0001\n",
      "control13 Epoch: 0054 loss_train: 0.0001 loss_val: 0.0000\n",
      "control13 Epoch: 0055 loss_train: 0.0001 loss_val: 0.0000\n",
      "control13 Epoch: 0056 loss_train: 0.0001 loss_val: 0.0000\n",
      "control13 Epoch: 0057 loss_train: 0.0001 loss_val: 0.0000\n",
      "control13 Epoch: 0058 loss_train: 0.0001 loss_val: 0.0000\n",
      "control13 Epoch: 0059 loss_train: 0.0000 loss_val: 0.0000\n",
      "disease13 Epoch: 0060 loss_train: 0.0434 loss_val: 0.0322\n",
      "disease13 Epoch: 0061 loss_train: 0.0308 loss_val: 0.0318\n",
      "disease13 Epoch: 0062 loss_train: 0.0306 loss_val: 0.0316\n",
      "disease13 Epoch: 0063 loss_train: 0.0303 loss_val: 0.0316\n",
      "disease13 Epoch: 0064 loss_train: 0.0301 loss_val: 0.0314\n",
      "disease13 Epoch: 0065 loss_train: 0.0301 loss_val: 0.0314\n",
      "disease13 Epoch: 0066 loss_train: 0.0296 loss_val: 0.0314\n",
      "disease13 Epoch: 0067 loss_train: 0.0298 loss_val: 0.0316\n",
      "disease13 Epoch: 0068 loss_train: 0.0294 loss_val: 0.0316\n",
      "disease13 Epoch: 0069 loss_train: 0.0292 loss_val: 0.0317\n",
      "disease13 Epoch: 0070 loss_train: 0.0287 loss_val: 0.0321\n",
      "disease13 Epoch: 0071 loss_train: 0.0290 loss_val: 0.0317\n",
      "disease13 Epoch: 0072 loss_train: 0.0289 loss_val: 0.0318\n",
      "disease13 Epoch: 0073 loss_train: 0.0285 loss_val: 0.0317\n",
      "disease13 Epoch: 0074 loss_train: 0.0282 loss_val: 0.0320\n",
      "disease13 Epoch: 0075 loss_train: 0.0281 loss_val: 0.0321\n",
      "disease13 Epoch: 0076 loss_train: 0.0280 loss_val: 0.0322\n",
      "disease13 Epoch: 0077 loss_train: 0.0280 loss_val: 0.0324\n",
      "disease13 Epoch: 0078 loss_train: 0.0272 loss_val: 0.0325\n",
      "disease13 Epoch: 0079 loss_train: 0.0275 loss_val: 0.0326\n",
      "control13 Epoch: 0080 loss_train: 0.0125 loss_val: 0.0001\n",
      "control13 Epoch: 0081 loss_train: 0.0002 loss_val: 0.0001\n",
      "control13 Epoch: 0082 loss_train: 0.0001 loss_val: 0.0000\n",
      "control13 Epoch: 0083 loss_train: 0.0001 loss_val: 0.0000\n",
      "control13 Epoch: 0084 loss_train: 0.0001 loss_val: 0.0000\n",
      "control13 Epoch: 0085 loss_train: 0.0001 loss_val: 0.0000\n",
      "control13 Epoch: 0086 loss_train: 0.0001 loss_val: 0.0000\n",
      "control13 Epoch: 0087 loss_train: 0.0000 loss_val: 0.0000\n",
      "control13 Epoch: 0088 loss_train: 0.0000 loss_val: 0.0000\n",
      "control13 Epoch: 0089 loss_train: 0.0000 loss_val: 0.0000\n",
      "disease13 Epoch: 0090 loss_train: 0.0417 loss_val: 0.0327\n",
      "disease13 Epoch: 0091 loss_train: 0.0274 loss_val: 0.0327\n",
      "disease13 Epoch: 0092 loss_train: 0.0274 loss_val: 0.0329\n",
      "disease13 Epoch: 0093 loss_train: 0.0271 loss_val: 0.0329\n",
      "disease13 Epoch: 0094 loss_train: 0.0265 loss_val: 0.0330\n",
      "disease13 Epoch: 0095 loss_train: 0.0264 loss_val: 0.0329\n",
      "disease13 Epoch: 0096 loss_train: 0.0263 loss_val: 0.0331\n",
      "disease13 Epoch: 0097 loss_train: 0.0259 loss_val: 0.0337\n",
      "disease13 Epoch: 0098 loss_train: 0.0263 loss_val: 0.0338\n",
      "disease13 Epoch: 0099 loss_train: 0.0254 loss_val: 0.0342\n",
      "disease13 Epoch: 0100 loss_train: 0.0254 loss_val: 0.0341\n",
      "disease13 Epoch: 0101 loss_train: 0.0252 loss_val: 0.0343\n",
      "disease13 Epoch: 0102 loss_train: 0.0253 loss_val: 0.0342\n",
      "disease13 Epoch: 0103 loss_train: 0.0249 loss_val: 0.0345\n",
      "disease13 Epoch: 0104 loss_train: 0.0243 loss_val: 0.0351\n",
      "disease13 Epoch: 0105 loss_train: 0.0246 loss_val: 0.0351\n",
      "disease13 Epoch: 0106 loss_train: 0.0241 loss_val: 0.0358\n",
      "disease13 Epoch: 0107 loss_train: 0.0238 loss_val: 0.0361\n",
      "disease13 Epoch: 0108 loss_train: 0.0235 loss_val: 0.0360\n",
      "disease13 Epoch: 0109 loss_train: 0.0233 loss_val: 0.0367\n",
      "control13 Epoch: 0110 loss_train: 0.0108 loss_val: 0.0001\n",
      "control13 Epoch: 0111 loss_train: 0.0002 loss_val: 0.0001\n",
      "control13 Epoch: 0112 loss_train: 0.0001 loss_val: 0.0000\n",
      "control13 Epoch: 0113 loss_train: 0.0001 loss_val: 0.0000\n",
      "control13 Epoch: 0114 loss_train: 0.0001 loss_val: 0.0000\n",
      "control13 Epoch: 0115 loss_train: 0.0001 loss_val: 0.0000\n",
      "control13 Epoch: 0116 loss_train: 0.0000 loss_val: 0.0000\n",
      "control13 Epoch: 0117 loss_train: 0.0001 loss_val: 0.0000\n",
      "control13 Epoch: 0118 loss_train: 0.0000 loss_val: 0.0000\n",
      "control13 Epoch: 0119 loss_train: 0.0000 loss_val: 0.0000\n",
      "disease13 Epoch: 0120 loss_train: 0.0390 loss_val: 0.0350\n",
      "disease13 Epoch: 0121 loss_train: 0.0235 loss_val: 0.0357\n",
      "disease13 Epoch: 0122 loss_train: 0.0231 loss_val: 0.0367\n",
      "disease13 Epoch: 0123 loss_train: 0.0229 loss_val: 0.0367\n",
      "disease13 Epoch: 0124 loss_train: 0.0223 loss_val: 0.0371\n",
      "disease13 Epoch: 0125 loss_train: 0.0220 loss_val: 0.0375\n",
      "disease13 Epoch: 0126 loss_train: 0.0226 loss_val: 0.0373\n",
      "disease13 Epoch: 0127 loss_train: 0.0213 loss_val: 0.0388\n",
      "disease13 Epoch: 0128 loss_train: 0.0216 loss_val: 0.0380\n",
      "disease13 Epoch: 0129 loss_train: 0.0207 loss_val: 0.0397\n",
      "disease13 Epoch: 0130 loss_train: 0.0204 loss_val: 0.0400\n",
      "disease13 Epoch: 0131 loss_train: 0.0201 loss_val: 0.0418\n",
      "disease13 Epoch: 0132 loss_train: 0.0203 loss_val: 0.0415\n",
      "disease13 Epoch: 0133 loss_train: 0.0199 loss_val: 0.0422\n",
      "disease13 Epoch: 0134 loss_train: 0.0198 loss_val: 0.0429\n",
      "disease13 Epoch: 0135 loss_train: 0.0196 loss_val: 0.0417\n",
      "disease13 Epoch: 0136 loss_train: 0.0194 loss_val: 0.0423\n",
      "disease13 Epoch: 0137 loss_train: 0.0193 loss_val: 0.0426\n",
      "disease13 Epoch: 0138 loss_train: 0.0193 loss_val: 0.0424\n",
      "disease13 Epoch: 0139 loss_train: 0.0186 loss_val: 0.0425\n",
      "control13 Epoch: 0140 loss_train: 0.0126 loss_val: 0.0001\n",
      "control13 Epoch: 0141 loss_train: 0.0002 loss_val: 0.0000\n"
     ]
    },
    {
     "name": "stdout",
     "output_type": "stream",
     "text": [
      "control13 Epoch: 0142 loss_train: 0.0001 loss_val: 0.0000\n",
      "control13 Epoch: 0143 loss_train: 0.0001 loss_val: 0.0000\n",
      "control13 Epoch: 0144 loss_train: 0.0001 loss_val: 0.0000\n",
      "control13 Epoch: 0145 loss_train: 0.0001 loss_val: 0.0000\n",
      "control13 Epoch: 0146 loss_train: 0.0001 loss_val: 0.0000\n",
      "control13 Epoch: 0147 loss_train: 0.0000 loss_val: 0.0000\n",
      "control13 Epoch: 0148 loss_train: 0.0000 loss_val: 0.0000\n",
      "control13 Epoch: 0149 loss_train: 0.0000 loss_val: 0.0000\n",
      "disease13 Epoch: 0150 loss_train: 0.0356 loss_val: 0.0384\n",
      "disease13 Epoch: 0151 loss_train: 0.0185 loss_val: 0.0408\n",
      "disease13 Epoch: 0152 loss_train: 0.0177 loss_val: 0.0429\n",
      "disease13 Epoch: 0153 loss_train: 0.0178 loss_val: 0.0435\n",
      "disease13 Epoch: 0154 loss_train: 0.0172 loss_val: 0.0443\n",
      "disease13 Epoch: 0155 loss_train: 0.0168 loss_val: 0.0458\n",
      "disease13 Epoch: 0156 loss_train: 0.0164 loss_val: 0.0467\n",
      "disease13 Epoch: 0157 loss_train: 0.0167 loss_val: 0.0475\n",
      "disease13 Epoch: 0158 loss_train: 0.0159 loss_val: 0.0471\n",
      "disease13 Epoch: 0159 loss_train: 0.0156 loss_val: 0.0487\n",
      "disease13 Epoch: 0160 loss_train: 0.0157 loss_val: 0.0486\n",
      "disease13 Epoch: 0161 loss_train: 0.0153 loss_val: 0.0495\n",
      "disease13 Epoch: 0162 loss_train: 0.0155 loss_val: 0.0499\n",
      "disease13 Epoch: 0163 loss_train: 0.0145 loss_val: 0.0505\n",
      "disease13 Epoch: 0164 loss_train: 0.0148 loss_val: 0.0516\n",
      "disease13 Epoch: 0165 loss_train: 0.0148 loss_val: 0.0512\n",
      "disease13 Epoch: 0166 loss_train: 0.0145 loss_val: 0.0510\n",
      "disease13 Epoch: 0167 loss_train: 0.0136 loss_val: 0.0525\n",
      "disease13 Epoch: 0168 loss_train: 0.0137 loss_val: 0.0510\n",
      "disease13 Epoch: 0169 loss_train: 0.0139 loss_val: 0.0525\n",
      "control13 Epoch: 0170 loss_train: 0.0144 loss_val: 0.0001\n",
      "control13 Epoch: 0171 loss_train: 0.0001 loss_val: 0.0000\n",
      "control13 Epoch: 0172 loss_train: 0.0001 loss_val: 0.0000\n",
      "control13 Epoch: 0173 loss_train: 0.0001 loss_val: 0.0000\n",
      "control13 Epoch: 0174 loss_train: 0.0001 loss_val: 0.0000\n",
      "control13 Epoch: 0175 loss_train: 0.0000 loss_val: 0.0000\n",
      "control13 Epoch: 0176 loss_train: 0.0000 loss_val: 0.0000\n",
      "control13 Epoch: 0177 loss_train: 0.0000 loss_val: 0.0000\n",
      "control13 Epoch: 0178 loss_train: 0.0000 loss_val: 0.0000\n",
      "control13 Epoch: 0179 loss_train: 0.0000 loss_val: 0.0000\n",
      "disease13 Epoch: 0180 loss_train: 0.0323 loss_val: 0.0440\n",
      "disease13 Epoch: 0181 loss_train: 0.0138 loss_val: 0.0479\n",
      "disease13 Epoch: 0182 loss_train: 0.0136 loss_val: 0.0497\n",
      "disease13 Epoch: 0183 loss_train: 0.0129 loss_val: 0.0525\n",
      "disease13 Epoch: 0184 loss_train: 0.0131 loss_val: 0.0549\n",
      "disease13 Epoch: 0185 loss_train: 0.0120 loss_val: 0.0550\n",
      "disease13 Epoch: 0186 loss_train: 0.0121 loss_val: 0.0554\n",
      "disease13 Epoch: 0187 loss_train: 0.0122 loss_val: 0.0554\n",
      "disease13 Epoch: 0188 loss_train: 0.0120 loss_val: 0.0563\n",
      "disease13 Epoch: 0189 loss_train: 0.0122 loss_val: 0.0551\n",
      "disease13 Epoch: 0190 loss_train: 0.0109 loss_val: 0.0566\n",
      "disease13 Epoch: 0191 loss_train: 0.0107 loss_val: 0.0596\n",
      "disease13 Epoch: 0192 loss_train: 0.0107 loss_val: 0.0579\n",
      "disease13 Epoch: 0193 loss_train: 0.0104 loss_val: 0.0604\n",
      "disease13 Epoch: 0194 loss_train: 0.0103 loss_val: 0.0605\n",
      "disease13 Epoch: 0195 loss_train: 0.0099 loss_val: 0.0651\n",
      "disease13 Epoch: 0196 loss_train: 0.0108 loss_val: 0.0614\n",
      "disease13 Epoch: 0197 loss_train: 0.0100 loss_val: 0.0623\n",
      "disease13 Epoch: 0198 loss_train: 0.0095 loss_val: 0.0632\n",
      "disease13 Epoch: 0199 loss_train: 0.0094 loss_val: 0.0631\n",
      "control13 Epoch: 0200 loss_train: 0.0137 loss_val: 0.0000\n",
      "control13 Epoch: 0201 loss_train: 0.0001 loss_val: 0.0000\n",
      "control13 Epoch: 0202 loss_train: 0.0000 loss_val: 0.0000\n",
      "control13 Epoch: 0203 loss_train: 0.0000 loss_val: 0.0000\n",
      "control13 Epoch: 0204 loss_train: 0.0000 loss_val: 0.0000\n",
      "control13 Epoch: 0205 loss_train: 0.0000 loss_val: 0.0000\n"
     ]
    },
    {
     "ename": "KeyboardInterrupt",
     "evalue": "",
     "output_type": "error",
     "traceback": [
      "\u001b[0;31m---------------------------------------------------------------------------\u001b[0m",
      "\u001b[0;31mKeyboardInterrupt\u001b[0m                         Traceback (most recent call last)",
      "\u001b[0;32m<ipython-input-10-56c3d843836d>\u001b[0m in \u001b[0;36m<module>\u001b[0;34m\u001b[0m\n\u001b[1;32m     64\u001b[0m \u001b[0;34m\u001b[0m\u001b[0m\n\u001b[1;32m     65\u001b[0m \u001b[0;34m\u001b[0m\u001b[0m\n\u001b[0;32m---> 66\u001b[0;31m     \u001b[0mtrain_loss_ep\u001b[0m\u001b[0;34m[\u001b[0m\u001b[0mep\u001b[0m\u001b[0;34m]\u001b[0m\u001b[0;34m,\u001b[0m\u001b[0mval_loss_ep\u001b[0m\u001b[0;34m[\u001b[0m\u001b[0mep\u001b[0m\u001b[0;34m]\u001b[0m\u001b[0;34m=\u001b[0m\u001b[0mtrain\u001b[0m\u001b[0;34m(\u001b[0m\u001b[0mep\u001b[0m\u001b[0;34m)\u001b[0m\u001b[0;34m\u001b[0m\u001b[0;34m\u001b[0m\u001b[0m\n\u001b[0m\u001b[1;32m     67\u001b[0m \u001b[0;34m\u001b[0m\u001b[0m\n\u001b[1;32m     68\u001b[0m \u001b[0;34m\u001b[0m\u001b[0m\n",
      "\u001b[0;32m<ipython-input-10-56c3d843836d>\u001b[0m in \u001b[0;36mtrain\u001b[0;34m(epoch)\u001b[0m\n\u001b[1;32m     26\u001b[0m \u001b[0;34m\u001b[0m\u001b[0m\n\u001b[1;32m     27\u001b[0m         \u001b[0mloss\u001b[0m\u001b[0;34m.\u001b[0m\u001b[0mbackward\u001b[0m\u001b[0;34m(\u001b[0m\u001b[0;34m)\u001b[0m\u001b[0;34m\u001b[0m\u001b[0;34m\u001b[0m\u001b[0m\n\u001b[0;32m---> 28\u001b[0;31m         \u001b[0moptimizer\u001b[0m\u001b[0;34m.\u001b[0m\u001b[0mstep\u001b[0m\u001b[0;34m(\u001b[0m\u001b[0;34m)\u001b[0m\u001b[0;34m\u001b[0m\u001b[0;34m\u001b[0m\u001b[0m\n\u001b[0m\u001b[1;32m     29\u001b[0m \u001b[0;34m\u001b[0m\u001b[0m\n\u001b[1;32m     30\u001b[0m     \u001b[0mloss_all\u001b[0m\u001b[0;34m=\u001b[0m\u001b[0mloss_all\u001b[0m\u001b[0;34m/\u001b[0m\u001b[0mtrainInputnp\u001b[0m\u001b[0;34m.\u001b[0m\u001b[0mshape\u001b[0m\u001b[0;34m[\u001b[0m\u001b[0;36m0\u001b[0m\u001b[0;34m]\u001b[0m\u001b[0;34m\u001b[0m\u001b[0;34m\u001b[0m\u001b[0m\n",
      "\u001b[0;32m~/anaconda3/envs/pytorch/lib/python3.8/site-packages/torch/autograd/grad_mode.py\u001b[0m in \u001b[0;36mdecorate_context\u001b[0;34m(*args, **kwargs)\u001b[0m\n\u001b[1;32m     24\u001b[0m         \u001b[0;32mdef\u001b[0m \u001b[0mdecorate_context\u001b[0m\u001b[0;34m(\u001b[0m\u001b[0;34m*\u001b[0m\u001b[0margs\u001b[0m\u001b[0;34m,\u001b[0m \u001b[0;34m**\u001b[0m\u001b[0mkwargs\u001b[0m\u001b[0;34m)\u001b[0m\u001b[0;34m:\u001b[0m\u001b[0;34m\u001b[0m\u001b[0;34m\u001b[0m\u001b[0m\n\u001b[1;32m     25\u001b[0m             \u001b[0;32mwith\u001b[0m \u001b[0mself\u001b[0m\u001b[0;34m.\u001b[0m\u001b[0m__class__\u001b[0m\u001b[0;34m(\u001b[0m\u001b[0;34m)\u001b[0m\u001b[0;34m:\u001b[0m\u001b[0;34m\u001b[0m\u001b[0;34m\u001b[0m\u001b[0m\n\u001b[0;32m---> 26\u001b[0;31m                 \u001b[0;32mreturn\u001b[0m \u001b[0mfunc\u001b[0m\u001b[0;34m(\u001b[0m\u001b[0;34m*\u001b[0m\u001b[0margs\u001b[0m\u001b[0;34m,\u001b[0m \u001b[0;34m**\u001b[0m\u001b[0mkwargs\u001b[0m\u001b[0;34m)\u001b[0m\u001b[0;34m\u001b[0m\u001b[0;34m\u001b[0m\u001b[0m\n\u001b[0m\u001b[1;32m     27\u001b[0m         \u001b[0;32mreturn\u001b[0m \u001b[0mcast\u001b[0m\u001b[0;34m(\u001b[0m\u001b[0mF\u001b[0m\u001b[0;34m,\u001b[0m \u001b[0mdecorate_context\u001b[0m\u001b[0;34m)\u001b[0m\u001b[0;34m\u001b[0m\u001b[0;34m\u001b[0m\u001b[0m\n\u001b[1;32m     28\u001b[0m \u001b[0;34m\u001b[0m\u001b[0m\n",
      "\u001b[0;32m~/anaconda3/envs/pytorch/lib/python3.8/site-packages/torch/optim/adam.py\u001b[0m in \u001b[0;36mstep\u001b[0;34m(self, closure)\u001b[0m\n\u001b[1;32m    106\u001b[0m \u001b[0;34m\u001b[0m\u001b[0m\n\u001b[1;32m    107\u001b[0m             \u001b[0mbeta1\u001b[0m\u001b[0;34m,\u001b[0m \u001b[0mbeta2\u001b[0m \u001b[0;34m=\u001b[0m \u001b[0mgroup\u001b[0m\u001b[0;34m[\u001b[0m\u001b[0;34m'betas'\u001b[0m\u001b[0;34m]\u001b[0m\u001b[0;34m\u001b[0m\u001b[0;34m\u001b[0m\u001b[0m\n\u001b[0;32m--> 108\u001b[0;31m             F.adam(params_with_grad,\n\u001b[0m\u001b[1;32m    109\u001b[0m                    \u001b[0mgrads\u001b[0m\u001b[0;34m,\u001b[0m\u001b[0;34m\u001b[0m\u001b[0;34m\u001b[0m\u001b[0m\n\u001b[1;32m    110\u001b[0m                    \u001b[0mexp_avgs\u001b[0m\u001b[0;34m,\u001b[0m\u001b[0;34m\u001b[0m\u001b[0;34m\u001b[0m\u001b[0m\n",
      "\u001b[0;32m~/anaconda3/envs/pytorch/lib/python3.8/site-packages/torch/optim/functional.py\u001b[0m in \u001b[0;36madam\u001b[0;34m(params, grads, exp_avgs, exp_avg_sqs, max_exp_avg_sqs, state_steps, amsgrad, beta1, beta2, lr, weight_decay, eps)\u001b[0m\n\u001b[1;32m     96\u001b[0m         \u001b[0mstep_size\u001b[0m \u001b[0;34m=\u001b[0m \u001b[0mlr\u001b[0m \u001b[0;34m/\u001b[0m \u001b[0mbias_correction1\u001b[0m\u001b[0;34m\u001b[0m\u001b[0;34m\u001b[0m\u001b[0m\n\u001b[1;32m     97\u001b[0m \u001b[0;34m\u001b[0m\u001b[0m\n\u001b[0;32m---> 98\u001b[0;31m         \u001b[0mparam\u001b[0m\u001b[0;34m.\u001b[0m\u001b[0maddcdiv_\u001b[0m\u001b[0;34m(\u001b[0m\u001b[0mexp_avg\u001b[0m\u001b[0;34m,\u001b[0m \u001b[0mdenom\u001b[0m\u001b[0;34m,\u001b[0m \u001b[0mvalue\u001b[0m\u001b[0;34m=\u001b[0m\u001b[0;34m-\u001b[0m\u001b[0mstep_size\u001b[0m\u001b[0;34m)\u001b[0m\u001b[0;34m\u001b[0m\u001b[0;34m\u001b[0m\u001b[0m\n\u001b[0m",
      "\u001b[0;31mKeyboardInterrupt\u001b[0m: "
     ]
    }
   ],
   "source": [
    "# model.load_state_dict(torch.load(os.path.join(modelsavepath,str(9360)+'.pt')))\n",
    "# epochs=20000\n",
    "if pretrainedAE:\n",
    "    print('loading '+pretrainedAE['name']+' epoch '+str(pretrainedAE['epoch']))\n",
    "    model.load_state_dict(torch.load(os.path.join('/mnt/xinyi/pamrats/models/train_gae_starmap/'+pretrainedAE['name'],str(pretrainedAE['epoch'])+'.pt')))\n",
    "    \n",
    "def train(epoch):\n",
    "    t = time.time()\n",
    "    model.train()\n",
    "    \n",
    "    loss_all=0\n",
    "    for i in range(int(np.ceil(trainInputnp.shape[0]/batchsize))):\n",
    "        \n",
    "        trainInput=trainInputnp[i*batchsize:min((i+1)*batchsize,trainInputnp.shape[0])]\n",
    "        labels=trainLabelsnp[i*batchsize:min((i+1)*batchsize,trainInputnp.shape[0])]\n",
    "        if use_cuda:\n",
    "            trainInput=torch.tensor(trainInput).cuda().float()\n",
    "            labels=torch.tensor(labels).cuda().long()\n",
    "        optimizer.zero_grad()\n",
    "\n",
    "        pred = model(trainInput)\n",
    "\n",
    "\n",
    "        loss=lossCE(pred,labels)\n",
    "        loss_all+=loss.item()\n",
    "        \n",
    "        loss.backward()\n",
    "        optimizer.step()\n",
    "\n",
    "    loss_all=loss_all/trainInputnp.shape[0]\n",
    "    \n",
    "    model.eval()\n",
    "    loss_val_all=0\n",
    "    for i in range(int(np.ceil(valInputnp.shape[0]/batchsize))):\n",
    "        valInput=valInputnp[i*batchsize:min((i+1)*batchsize,valInputnp.shape[0])]\n",
    "        labels=valLabelsnp[i*batchsize:min((i+1)*batchsize,valInputnp.shape[0])]\n",
    "        if use_cuda:\n",
    "            valInput=torch.tensor(valInput).cuda().float()\n",
    "            labels=torch.tensor(labels).cuda().long()\n",
    "        pred = model(valInput)\n",
    "\n",
    "        loss_val_all+=lossCE(pred,labels).item()\n",
    "\n",
    "    loss_val_all=loss_val_all/valInputnp.shape[0]\n",
    "    \n",
    "    print(training_samples_t+' Epoch: {:04d}'.format(epoch),\n",
    "          'loss_train: {:.4f}'.format(loss_all),\n",
    "          'loss_val: {:.4f}'.format(loss_val_all))\n",
    "    return loss_all,loss_val_all\n",
    "    \n",
    "train_loss_ep=[None]*epochs\n",
    "val_loss_ep=[None]*epochs\n",
    "t_ep=time.time()\n",
    "\n",
    "for ep in range(epochs):\n",
    "# for ep in range(10000,20000):\n",
    "    t=int(ep/switchFreq)%len(training_samples)\n",
    "    training_samples_t=training_samples[t]\n",
    "    \n",
    "    trainInputnp, valInputnp, _,trainLabelsnp,valLabelsnp,_,_,_,_=imageslist[training_samples_t]\n",
    "    \n",
    "#     trainInputloader=DataLoader(zip(trainInputnp,trainLabelsnp), batch_size=batchsize, drop_last=False, shuffle=False)\n",
    "#     valInputloader=DataLoader(zip(valInputnp,valLabelsnp), batch_size=batchsize, drop_last=False, shuffle=False)\n",
    "    \n",
    "    \n",
    "    train_loss_ep[ep],val_loss_ep[ep]=train(ep)\n",
    "\n",
    "        \n",
    "    if ep%saveFreq == 0:\n",
    "        torch.save(model.cpu().state_dict(), os.path.join(modelsavepath,str(ep)+'.pt'))\n",
    "    if use_cuda:\n",
    "        model.cuda()\n",
    "        torch.cuda.empty_cache()\n",
    "print(' total time: {:.4f}s'.format(time.time() - t_ep))\n"
   ]
  },
  {
   "cell_type": "code",
   "execution_count": 11,
   "metadata": {},
   "outputs": [],
   "source": [
    "# with open(os.path.join(logsavepath,'train_loss'), 'rb') as input:\n",
    "#     train_loss_ep[:9360]=pickle.load(input)\n",
    "# with open(os.path.join(logsavepath,'train_loss_kl'), 'rb') as input:\n",
    "#     train_loss_kl_ep[:9360]=pickle.load(input)\n",
    "# with open(os.path.join(logsavepath,'train_loss_x'), 'rb') as input:\n",
    "#     train_loss_x_ep[:9360]=pickle.load(input)\n",
    "# with open(os.path.join(logsavepath,'train_loss_a'), 'rb') as input:\n",
    "#     train_loss_a_ep[:9360]=pickle.load(input)\n",
    "# with open(os.path.join(logsavepath,'val_loss'), 'rb') as input:\n",
    "#     val_loss_ep[:9360]=pickle.load(input)\n",
    "# with open(os.path.join(logsavepath,'val_loss_x'), 'rb') as input:\n",
    "#     val_loss_x_ep[:9360]=pickle.load(input)\n",
    "# with open(os.path.join(logsavepath,'val_loss_a'), 'rb') as input:\n",
    "#     val_loss_a_ep[:9360]=pickle.load(input)\n",
    "# with open(os.path.join(logsavepath,'train_loss_adv'), 'rb') as input:\n",
    "#     train_loss_adv_ep[:9360]=pickle.load(input)\n",
    "# with open(os.path.join(logsavepath,'val_loss_adv'), 'rb') as input:\n",
    "#     val_loss_adv_ep[:9360]=pickle.load(input)\n",
    "# with open(os.path.join(logsavepath,'train_loss_advD'), 'rb') as input:\n",
    "#     train_loss_advD_ep[:9360]=pickle.load(input)\n",
    "# with open(os.path.join(logsavepath,'val_loss_advD'), 'rb') as input:\n",
    "#     val_loss_advD_ep[:9360]=pickle.load(input)\n",
    "    \n",
    "with open(os.path.join(logsavepath,'train_loss'), 'wb') as output:\n",
    "    pickle.dump(train_loss_ep, output, pickle.HIGHEST_PROTOCOL)\n",
    "with open(os.path.join(logsavepath,'val_loss_x'), 'wb') as output:\n",
    "    pickle.dump(val_loss_ep, output, pickle.HIGHEST_PROTOCOL)\n"
   ]
  },
  {
   "cell_type": "code",
   "execution_count": 12,
   "metadata": {
    "scrolled": true
   },
   "outputs": [
    {
     "data": {
      "image/png": "[encoded data removed]",
      "text/plain": [
       "<Figure size 432x288 with 1 Axes>"
      ]
     },
     "metadata": {
      "needs_background": "light"
     },
     "output_type": "display_data"
    }
   ],
   "source": [
    "plt.plot(np.arange(epochs),train_loss_ep)\n",
    "plt.plot(np.arange(epochs),val_loss_ep)\n",
    "# plt.ylim((0,0.01))\n",
    "# plt.xlim((0,3000))\n",
    "plt.legend(['training loss','validation loss','training kl loss','training discriminator ae','validation discriminator ae','training discriminator d','validation discriminator d'],loc='upper right')\n",
    "plt.savefig(os.path.join(plotsavepath,'loss_seed3.jpg'))\n",
    "plt.show()\n"
   ]
  },
  {
   "cell_type": "code",
   "execution_count": 13,
   "metadata": {},
   "outputs": [
    {
     "data": {
      "text/plain": [
       "48"
      ]
     },
     "execution_count": 13,
     "metadata": {},
     "output_type": "execute_result"
    }
   ],
   "source": [
    "# name='c13k20XA_07_dca'\n",
    "# logsavepath='/mnt/xinyi/pamrats/log/train_gae_starmap/'+name\n",
    "# with open(os.path.join(logsavepath,'val_loss_a'), 'rb') as output:\n",
    "#     val_loss_a_ep=pickle.load(output)\n",
    "np.argmin(val_loss_ep[:180])\n",
    "# np.where(np.logical_not(np.isfinite(val_loss_ep[:])))\n",
    "# val_loss_a_ep[8700]"
   ]
  },
  {
   "cell_type": "code",
   "execution_count": 19,
   "metadata": {
    "scrolled": true
   },
   "outputs": [
    {
     "name": "stdout",
     "output_type": "stream",
     "text": [
      "disease13\n",
      "test results loss_x_test: 0.0289\n"
     ]
    }
   ],
   "source": [
    "testepoch=40\n",
    "model.load_state_dict(torch.load(os.path.join(modelsavepath,str(testepoch)+'.pt')))\n",
    "model.eval()\n",
    "for s in sampleidx.keys():\n",
    "# for s in ['disease13']:\n",
    "    print(s)\n",
    "    _,_, testInputnp,_,_,testLabelsnp,_,_,_=imageslist[s]\n",
    "    \n",
    "    testInputloader=DataLoader(testInputnp, batch_size=batchsize, drop_last=False, shuffle=False)\n",
    "    \n",
    "    loss_test_all=0\n",
    "    for i in range(int(np.ceil(testInputnp.shape[0]/batchsize))):\n",
    "        testInput=testInputnp[i*batchsize:min((i+1)*batchsize,testInputnp.shape[0])]\n",
    "        labels=testLabelsnp[i*batchsize:min((i+1)*batchsize,testInputnp.shape[0])]\n",
    "        if use_cuda:\n",
    "            testInput=torch.tensor(testInput).cuda().float()\n",
    "            labels=torch.tensor(labels).cuda().long()\n",
    "        pred = model(testInput)\n",
    "\n",
    "        loss_test_all+=lossCE(pred,labels).item()\n",
    "\n",
    "    loss_test_all=loss_test_all/testInputnp.shape[0]\n",
    "    \n",
    "        \n",
    "    print('test results',\n",
    "          'loss_x_test: {:.4f}'.format(loss_test_all))\n",
    "#          'loss_adv_test: {:.4f}'.format(loss_adv_test.item()))\n",
    "   "
   ]
  },
  {
   "cell_type": "code",
   "execution_count": 13,
   "metadata": {},
   "outputs": [],
   "source": [
    "def plotExprs(exprs,exprs2,savename,embedding,embedding2,savepath,savenameAdd=''):\n",
    "#     fig, ax = plt.subplots(dpi=400)\n",
    "    if not exprs is None:\n",
    "        plt.scatter(embedding[:,0],embedding[:,1],c=exprs,cmap='Greys',edgecolors='blue',linewidth=1,alpha=1,marker='o',vmin=0,vmax=4)\n",
    "    if not exprs2 is None:\n",
    "        plt.scatter(embedding2[:,0],embedding2[:,1],c=exprs2,cmap='Greys',edgecolors='green',linewidth=1,alpha=1,marker='^',vmin=0,vmax=4)\n",
    "    plt.colorbar(orientation='vertical', shrink = 0.5)\n",
    "    plt.gca().set_aspect('equal', 'datalim')\n",
    "#     fig.set_figheight(5)\n",
    "#     fig.set_figwidth(5)\n",
    "    plt.savefig(os.path.join(savepath,savename+savenameAdd+'.jpg'),dpi=400)\n",
    "#     plt.show()\n",
    "    \n",
    "#     fig.clf()\n",
    "    plt.close('all')"
   ]
  },
  {
   "cell_type": "code",
   "execution_count": 17,
   "metadata": {},
   "outputs": [
    {
     "name": "stdout",
     "output_type": "stream",
     "text": [
      "disease13\n",
      "test results loss positive: 5.5266 loss negative: 0.0115\n"
     ]
    },
    {
     "ename": "KeyboardInterrupt",
     "evalue": "",
     "output_type": "error",
     "traceback": [
      "\u001b[0;31m---------------------------------------------------------------------------\u001b[0m",
      "\u001b[0;31mKeyboardInterrupt\u001b[0m                         Traceback (most recent call last)",
      "\u001b[0;32m<ipython-input-17-7aa6aca809e3>\u001b[0m in \u001b[0;36m<module>\u001b[0;34m\u001b[0m\n\u001b[1;32m     31\u001b[0m     \u001b[0mtrainInputnp\u001b[0m\u001b[0;34m,\u001b[0m \u001b[0mvalInputnp\u001b[0m\u001b[0;34m,\u001b[0m \u001b[0mtestInputnp\u001b[0m\u001b[0;34m,\u001b[0m \u001b[0mtrainLabelsnp\u001b[0m\u001b[0;34m,\u001b[0m\u001b[0mvalLabelsnp\u001b[0m\u001b[0;34m,\u001b[0m\u001b[0mtestLabelsnp\u001b[0m\u001b[0;34m,\u001b[0m\u001b[0mtrainCoordnp\u001b[0m\u001b[0;34m,\u001b[0m\u001b[0mvalCoordnp\u001b[0m\u001b[0;34m,\u001b[0m\u001b[0mtestCoordnp\u001b[0m\u001b[0;34m=\u001b[0m\u001b[0mimageslist\u001b[0m\u001b[0;34m[\u001b[0m\u001b[0ms\u001b[0m\u001b[0;34m]\u001b[0m\u001b[0;34m\u001b[0m\u001b[0;34m\u001b[0m\u001b[0m\n\u001b[1;32m     32\u001b[0m     \u001b[0mplotLoss\u001b[0m\u001b[0;34m(\u001b[0m\u001b[0mtestInputnp\u001b[0m\u001b[0;34m,\u001b[0m\u001b[0mtestLabelsnp\u001b[0m\u001b[0;34m,\u001b[0m\u001b[0mtestCoordnp\u001b[0m\u001b[0;34m,\u001b[0m\u001b[0;34m'test'\u001b[0m\u001b[0;34m,\u001b[0m\u001b[0mplotepoch\u001b[0m\u001b[0;34m)\u001b[0m\u001b[0;34m\u001b[0m\u001b[0;34m\u001b[0m\u001b[0m\n\u001b[0;32m---> 33\u001b[0;31m     \u001b[0mplotLoss\u001b[0m\u001b[0;34m(\u001b[0m\u001b[0mtrainInputnp\u001b[0m\u001b[0;34m,\u001b[0m\u001b[0mtrainLabelsnp\u001b[0m\u001b[0;34m,\u001b[0m\u001b[0mtrainCoordnp\u001b[0m\u001b[0;34m,\u001b[0m\u001b[0;34m'train'\u001b[0m\u001b[0;34m,\u001b[0m\u001b[0mplotepoch\u001b[0m\u001b[0;34m)\u001b[0m\u001b[0;34m\u001b[0m\u001b[0;34m\u001b[0m\u001b[0m\n\u001b[0m\u001b[1;32m     34\u001b[0m     \u001b[0mplotLoss\u001b[0m\u001b[0;34m(\u001b[0m\u001b[0mvalInputnp\u001b[0m\u001b[0;34m,\u001b[0m\u001b[0mvalLabelsnp\u001b[0m\u001b[0;34m,\u001b[0m\u001b[0mvalCoordnp\u001b[0m\u001b[0;34m,\u001b[0m\u001b[0;34m'val'\u001b[0m\u001b[0;34m,\u001b[0m\u001b[0mplotepoch\u001b[0m\u001b[0;34m)\u001b[0m\u001b[0;34m\u001b[0m\u001b[0;34m\u001b[0m\u001b[0m\n\u001b[1;32m     35\u001b[0m     \u001b[0mplotLoss\u001b[0m\u001b[0;34m(\u001b[0m\u001b[0mnp\u001b[0m\u001b[0;34m.\u001b[0m\u001b[0mconcatenate\u001b[0m\u001b[0;34m(\u001b[0m\u001b[0;34m(\u001b[0m\u001b[0mtrainInputnp\u001b[0m\u001b[0;34m,\u001b[0m\u001b[0mvalInputnp\u001b[0m\u001b[0;34m,\u001b[0m\u001b[0mtestInputnp\u001b[0m\u001b[0;34m)\u001b[0m\u001b[0;34m,\u001b[0m\u001b[0maxis\u001b[0m\u001b[0;34m=\u001b[0m\u001b[0;36m0\u001b[0m\u001b[0;34m)\u001b[0m\u001b[0;34m,\u001b[0m\u001b[0mnp\u001b[0m\u001b[0;34m.\u001b[0m\u001b[0mconcatenate\u001b[0m\u001b[0;34m(\u001b[0m\u001b[0;34m(\u001b[0m\u001b[0mtrainLabelsnp\u001b[0m\u001b[0;34m,\u001b[0m\u001b[0mvalLabelsnp\u001b[0m\u001b[0;34m,\u001b[0m\u001b[0mtestLabelsnp\u001b[0m\u001b[0;34m)\u001b[0m\u001b[0;34m)\u001b[0m\u001b[0;34m,\u001b[0m\u001b[0mnp\u001b[0m\u001b[0;34m.\u001b[0m\u001b[0mconcatenate\u001b[0m\u001b[0;34m(\u001b[0m\u001b[0;34m(\u001b[0m\u001b[0mtrainCoordnp\u001b[0m\u001b[0;34m,\u001b[0m\u001b[0mvalCoordnp\u001b[0m\u001b[0;34m,\u001b[0m\u001b[0mtestCoordnp\u001b[0m\u001b[0;34m)\u001b[0m\u001b[0;34m,\u001b[0m\u001b[0maxis\u001b[0m\u001b[0;34m=\u001b[0m\u001b[0;36m0\u001b[0m\u001b[0;34m)\u001b[0m\u001b[0;34m,\u001b[0m\u001b[0;34m'all'\u001b[0m\u001b[0;34m,\u001b[0m\u001b[0mplotepoch\u001b[0m\u001b[0;34m)\u001b[0m\u001b[0;34m\u001b[0m\u001b[0;34m\u001b[0m\u001b[0m\n",
      "\u001b[0;32m<ipython-input-17-7aa6aca809e3>\u001b[0m in \u001b[0;36mplotLoss\u001b[0;34m(inputNp, labelsNp, coordNp, name, savenameAdd)\u001b[0m\n\u001b[1;32m      5\u001b[0m         \u001b[0mlabels\u001b[0m\u001b[0;34m=\u001b[0m\u001b[0mlabelsNp\u001b[0m\u001b[0;34m[\u001b[0m\u001b[0;34m[\u001b[0m\u001b[0mi\u001b[0m\u001b[0;34m]\u001b[0m\u001b[0;34m]\u001b[0m\u001b[0;34m\u001b[0m\u001b[0;34m\u001b[0m\u001b[0m\n\u001b[1;32m      6\u001b[0m         \u001b[0;32mif\u001b[0m \u001b[0muse_cuda\u001b[0m\u001b[0;34m:\u001b[0m\u001b[0;34m\u001b[0m\u001b[0;34m\u001b[0m\u001b[0m\n\u001b[0;32m----> 7\u001b[0;31m             \u001b[0mtestInput\u001b[0m\u001b[0;34m=\u001b[0m\u001b[0mtorch\u001b[0m\u001b[0;34m.\u001b[0m\u001b[0mtensor\u001b[0m\u001b[0;34m(\u001b[0m\u001b[0mtestInput\u001b[0m\u001b[0;34m)\u001b[0m\u001b[0;34m.\u001b[0m\u001b[0mcuda\u001b[0m\u001b[0;34m(\u001b[0m\u001b[0;34m)\u001b[0m\u001b[0;34m.\u001b[0m\u001b[0mfloat\u001b[0m\u001b[0;34m(\u001b[0m\u001b[0;34m)\u001b[0m\u001b[0;34m\u001b[0m\u001b[0;34m\u001b[0m\u001b[0m\n\u001b[0m\u001b[1;32m      8\u001b[0m             \u001b[0mlabels\u001b[0m\u001b[0;34m=\u001b[0m\u001b[0mtorch\u001b[0m\u001b[0;34m.\u001b[0m\u001b[0mtensor\u001b[0m\u001b[0;34m(\u001b[0m\u001b[0mlabels\u001b[0m\u001b[0;34m)\u001b[0m\u001b[0;34m.\u001b[0m\u001b[0mcuda\u001b[0m\u001b[0;34m(\u001b[0m\u001b[0;34m)\u001b[0m\u001b[0;34m.\u001b[0m\u001b[0mlong\u001b[0m\u001b[0;34m(\u001b[0m\u001b[0;34m)\u001b[0m\u001b[0;34m\u001b[0m\u001b[0;34m\u001b[0m\u001b[0m\n\u001b[1;32m      9\u001b[0m         \u001b[0mpred\u001b[0m \u001b[0;34m=\u001b[0m \u001b[0mmodel\u001b[0m\u001b[0;34m(\u001b[0m\u001b[0mtestInput\u001b[0m\u001b[0;34m)\u001b[0m\u001b[0;34m\u001b[0m\u001b[0;34m\u001b[0m\u001b[0m\n",
      "\u001b[0;31mKeyboardInterrupt\u001b[0m: "
     ]
    }
   ],
   "source": [
    "def plotLoss(inputNp,labelsNp,coordNp,name,savenameAdd=''):\n",
    "    loss_test_all=np.zeros(inputNp.shape[0])\n",
    "    for i in range(inputNp.shape[0]):\n",
    "        testInput=inputNp[[i]]\n",
    "        labels=labelsNp[[i]]\n",
    "        if use_cuda:\n",
    "            testInput=torch.tensor(testInput).cuda().float()\n",
    "            labels=torch.tensor(labels).cuda().long()\n",
    "        pred = model(testInput)\n",
    "        loss_test_all[i]=lossCE(pred,labels).item()\n",
    "    \n",
    "    posidx=labelsNp==1\n",
    "    negidx=labelsNp==0\n",
    "    loss_test_posLoss=np.sum(loss_test_all[posidx])/np.sum(posidx)\n",
    "    loss_test_negLoss=np.sum(loss_test_all[negidx])/np.sum(negidx)\n",
    "    print(name+' results',\n",
    "          'loss positive: {:.4f}'.format(loss_test_posLoss),\n",
    "         'loss negative: {:.4f}'.format(loss_test_negLoss))\n",
    "    \n",
    "    plotExprs(loss_test_all[posidx],loss_test_all[negidx],name+'loss'+s,coordNp[posidx],coordNp[negidx],plotsavepath,savenameAdd=savenameAdd)\n",
    "    plotExprs(loss_test_all[posidx],None,name+'loss'+s+'_positive',coordNp[posidx],None,plotsavepath,savenameAdd=savenameAdd)\n",
    "    plotExprs(None,loss_test_all[negidx],name+'loss'+s+'_negative',None,coordNp[negidx],plotsavepath,savenameAdd=savenameAdd)\n",
    "\n",
    "\n",
    "testepoch=20\n",
    "model.load_state_dict(torch.load(os.path.join(modelsavepath,str(testepoch)+'.pt')))\n",
    "model.eval()\n",
    "plotepoch='epoch20'\n",
    "for s in sampleidx.keys():\n",
    "    print(s)\n",
    "    trainInputnp, valInputnp, testInputnp, trainLabelsnp,valLabelsnp,testLabelsnp,trainCoordnp,valCoordnp,testCoordnp=imageslist[s]\n",
    "    plotLoss(testInputnp,testLabelsnp,testCoordnp,'test',plotepoch)\n",
    "    plotLoss(trainInputnp,trainLabelsnp,trainCoordnp,'train',plotepoch)\n",
    "    plotLoss(valInputnp,valLabelsnp,valCoordnp,'val',plotepoch)\n",
    "    plotLoss(np.concatenate((trainInputnp,valInputnp,testInputnp),axis=0),np.concatenate((trainLabelsnp,valLabelsnp,testLabelsnp)),np.concatenate((trainCoordnp,valCoordnp,testCoordnp),axis=0),'all',plotepoch)\n",
    "    "
   ]
  },
  {
   "cell_type": "code",
   "execution_count": 11,
   "metadata": {},
   "outputs": [
    {
     "data": {
      "text/plain": [
       "torch.Size([1, 2])"
      ]
     },
     "execution_count": 11,
     "metadata": {},
     "output_type": "execute_result"
    }
   ],
   "source": [
    "pred.shape"
   ]
  },
  {
   "cell_type": "code",
   "execution_count": 15,
   "metadata": {},
   "outputs": [],
   "source": [
    "labels=testLabelsnp[i]"
   ]
  },
  {
   "cell_type": "code",
   "execution_count": 16,
   "metadata": {},
   "outputs": [
    {
     "data": {
      "text/plain": [
       "1"
      ]
     },
     "execution_count": 16,
     "metadata": {},
     "output_type": "execute_result"
    }
   ],
   "source": [
    "labels"
   ]
  },
  {
   "cell_type": "code",
   "execution_count": null,
   "metadata": {},
   "outputs": [],
   "source": [
    "torch.sum(result[zeroidx])"
   ]
  },
  {
   "cell_type": "code",
   "execution_count": null,
   "metadata": {},
   "outputs": [],
   "source": [
    "# model.pi.weight[:8,:8]\n",
    "model_str"
   ]
  }
 ],
 "metadata": {
  "kernelspec": {
   "display_name": "Python 3",
   "language": "python",
   "name": "python3"
  },
  "language_info": {
   "codemirror_mode": {
    "name": "ipython",
    "version": 3
   },
   "file_extension": ".py",
   "mimetype": "text/x-python",
   "name": "python",
   "nbconvert_exporter": "python",
   "pygments_lexer": "ipython3",
   "version": "3.8.5"
  }
 },
 "nbformat": 4,
 "nbformat_minor": 4
}
