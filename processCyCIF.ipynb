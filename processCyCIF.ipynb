{
 "cells": [
  {
   "cell_type": "code",
   "execution_count": 2,
   "metadata": {},
   "outputs": [],
   "source": [
    "import scipy.sparse as sp\n",
    "import os\n",
    "import numpy as np\n",
    "from scipy.spatial import Delaunay\n",
    "import pandas as pd \n",
    "from sklearn.neighbors import NearestNeighbors\n",
    "from sklearn.preprocessing import power_transform,scale\n",
    "import pandas as pd"
   ]
  },
  {
   "cell_type": "code",
   "execution_count": 3,
   "metadata": {},
   "outputs": [],
   "source": [
    "cycif_eprs=pd.read_csv('/nfs/latdata/xinyi/cycif_data_for_gae/cycif_data.csv',header=0,index_col=0).to_numpy()\n",
    "cycif_meta=pd.read_csv('/nfs/latdata/xinyi/cycif_data_for_gae/cycif_metadata.csv',header=0,index_col=0)"
   ]
  },
  {
   "cell_type": "code",
   "execution_count": 4,
   "metadata": {},
   "outputs": [],
   "source": [
    "np.random.seed(3)"
   ]
  },
  {
   "cell_type": "code",
   "execution_count": 44,
   "metadata": {},
   "outputs": [],
   "source": [
    "def preprocessX(data,savepath,lowThresh_per=None,highThresh_per=None,ifBinary=False,ifLog=False,standardize = True,ifGaussian=False):\n",
    "    \"\"\"\n",
    "    param lowThresh_per: None or int - percentile below which expression are cutoff to 0\n",
    "    param highThresh_per: None or int - percentile above which expression are assgined the value at highThresh_per\n",
    "    \"\"\"\n",
    "    if lowThresh_per is not None:\n",
    "        lowThresh=np.percentile(data,lowThresh_per,0)\n",
    "        data[data<lowThresh]=0\n",
    "    if highThresh_per is not None:\n",
    "        highThresh=np.percentile(data,highThresh_per,0)\n",
    "        for g in range(len(highThresh)):\n",
    "            data[data[:,g]>highThresh[g],g]=highThresh[g]\n",
    "    \n",
    "    if ifBinary:\n",
    "        lowThresh=np.percentile(data,lowThresh_per,0)\n",
    "        data[data<lowThresh]=0\n",
    "        data[data>=lowThresh]=1\n",
    "    \n",
    "    if ifLog:\n",
    "        data=np.log(data+0.001)\n",
    "    \n",
    "    if ifGaussian:\n",
    "        data=power_transform(data,standardize=standardize)\n",
    "    elif standardize:\n",
    "        data=scale(data,axis=0, with_mean=True, with_std=True, copy=True)\n",
    "        \n",
    "    data=sp.csr_matrix(data)\n",
    "    sp.save_npz(savepath,data)"
   ]
  },
  {
   "cell_type": "code",
   "execution_count": 8,
   "metadata": {},
   "outputs": [],
   "source": [
    "def getA_delaunay(sobj_coordMtx,xname,yname,savepath=None):\n",
    "    a_size=sobj_coordMtx.shape[0]\n",
    "    a=sp.lil_matrix((a_size,a_size))\n",
    "    \n",
    "    sobj_coord_np=sobj_coordMtx.loc[:,[xname,yname]].to_numpy()\n",
    "    tri = Delaunay(sobj_coord_np)\n",
    "    \n",
    "    for tri_i in range(tri.simplices.shape[0]):\n",
    "        tri_i_idx=tri.simplices[tri_i,:]\n",
    "        a[tri_i_idx[0],tri_i_idx[1]]=1\n",
    "        a[tri_i_idx[1],tri_i_idx[0]]=1\n",
    "        a[tri_i_idx[0],tri_i_idx[2]]=1\n",
    "        a[tri_i_idx[2],tri_i_idx[0]]=1\n",
    "        a[tri_i_idx[1],tri_i_idx[2]]=1\n",
    "        a[tri_i_idx[2],tri_i_idx[1]]=1\n",
    "    \n",
    "    a=a.tocsr()\n",
    "    if savepath !=None:\n",
    "        sp.save_npz(savepath,a)\n",
    "    else:\n",
    "        return a\n",
    "    \n",
    "def getA_knn(sobj_coordMtx,k,a_mode,xname,yname,savepath=None,ifpanda=True):\n",
    "    if ifpanda:\n",
    "        sobj_coord_np=sobj_coordMtx.loc[:,[xname,yname]].to_numpy()\n",
    "    else:\n",
    "        sobj_coord_np=np.copy(sobj_coordMtx)\n",
    "    nbrs = NearestNeighbors(n_neighbors=k, algorithm='ball_tree').fit(sobj_coord_np)\n",
    "    a=nbrs.kneighbors_graph(sobj_coord_np,mode=a_mode)\n",
    "    if a_mode=='connectivity':\n",
    "        a=a-sp.identity(sobj_coordMtx.shape[0],format='csr')\n",
    "    if savepath !=None:\n",
    "        sp.save_npz(savepath,a)\n",
    "    else:\n",
    "        return a\n",
    "\n",
    "def randomA(sobj_coordMtx,xname,yname):\n",
    "    sobj_coord_np=sobj_coordMtx.loc[:,[xname,yname]].to_numpy()\n",
    "    randomCoord=np.random.uniform(size=sobj_coord_np.shape)\n",
    "    return randomCoord"
   ]
  },
  {
   "cell_type": "code",
   "execution_count": 56,
   "metadata": {},
   "outputs": [],
   "source": [
    "xsavepath=os.path.join('/nfs','latdata','xinyi','cycif_data_for_gae','xamatrices','x')\n",
    "cycif_eprs_processed=np.copy(cycif_eprs)\n",
    "preprocessX(cycif_eprs_processed,os.path.join(xsavepath,'standardize.npz'))\n",
    "cycif_eprs_processed=np.copy(cycif_eprs)\n",
    "preprocessX(cycif_eprs_processed,os.path.join(xsavepath,'binary.npz'),lowThresh_per=95,ifBinary=True)\n",
    "cycif_eprs_processed=np.copy(cycif_eprs)\n",
    "preprocessX(cycif_eprs_processed,os.path.join(xsavepath,'standardize_log.npz'),ifLog=True)\n",
    "cycif_eprs_processed=np.copy(cycif_eprs)\n",
    "preprocessX(cycif_eprs_processed,os.path.join(xsavepath,'standardize_log_gaussian.npz'),ifLog=True,ifGaussian=True)\n",
    "cycif_eprs_processed=np.copy(cycif_eprs)\n",
    "preprocessX(cycif_eprs_processed,os.path.join(xsavepath,'standardize_lowThresh.npz'),lowThresh_per=0.5)\n",
    "cycif_eprs_processed=np.copy(cycif_eprs)\n",
    "preprocessX(cycif_eprs_processed,os.path.join(xsavepath,'standardize_lowThresh_highThresh.npz'),lowThresh_per=0.5,highThresh_per=99.5)\n"
   ]
  },
  {
   "cell_type": "code",
   "execution_count": 58,
   "metadata": {},
   "outputs": [],
   "source": [
    "asavepath=os.path.join('/nfs','latdata','xinyi','cycif_data_for_gae','xamatrices','a')\n",
    "getA_delaunay(cycif_meta,'centroid_x','centroid_y',savepath=os.path.join(asavepath,'a_delaunay.npz'))\n",
    "getA_knn(cycif_meta,5,'connectivity','centroid_x','centroid_y',os.path.join(asavepath,'knn5_connectivity.npz'))\n",
    "getA_knn(cycif_meta,5,'distance','centroid_x','centroid_y',os.path.join(asavepath,'knn5_distance.npz'))\n",
    "getA_knn(cycif_meta,10,'connectivity','centroid_x','centroid_y',os.path.join(asavepath,'knn10_connectivity.npz'))\n",
    "getA_knn(cycif_meta,10,'distance','centroid_x','centroid_y',os.path.join(asavepath,'knn10_distance.npz'))\n",
    "getA_knn(cycif_meta,20,'connectivity','centroid_x','centroid_y',os.path.join(asavepath,'knn20_connectivity.npz'))\n",
    "getA_knn(cycif_meta,20,'distance','centroid_x','centroid_y',os.path.join(asavepath,'knn20_distance.npz'))"
   ]
  },
  {
   "cell_type": "code",
   "execution_count": 9,
   "metadata": {},
   "outputs": [],
   "source": [
    "asavepath=os.path.join('/nfs','latdata','xinyi','cycif_data_for_gae','xamatrices','a')\n",
    "random20=randomA(cycif_meta,'centroid_x','centroid_y')\n",
    "getA_knn(random20,20,'connectivity','centroid_x','centroid_y',os.path.join(asavepath,'random20_connectivity.npz'),False)"
   ]
  },
  {
   "cell_type": "code",
   "execution_count": 14,
   "metadata": {},
   "outputs": [
    {
     "data": {
      "text/plain": [
       "<matplotlib.collections.PathCollection at 0x7f045ecc48b0>"
      ]
     },
     "execution_count": 14,
     "metadata": {},
     "output_type": "execute_result"
    },
    {
     "data": {
      "image/png": "[encoded data removed]",
      "text/plain": [
       "<Figure size 432x288 with 1 Axes>"
      ]
     },
     "metadata": {
      "needs_background": "light"
     },
     "output_type": "display_data"
    }
   ],
   "source": [
    "import matplotlib.pyplot as plt\n",
    "plt.scatter(random20[:,0],random20[:,1])"
   ]
  }
 ],
 "metadata": {
  "kernelspec": {
   "display_name": "Python 3",
   "language": "python",
   "name": "python3"
  },
  "language_info": {
   "codemirror_mode": {
    "name": "ipython",
    "version": 3
   },
   "file_extension": ".py",
   "mimetype": "text/x-python",
   "name": "python",
   "nbconvert_exporter": "python",
   "pygments_lexer": "ipython3",
   "version": "3.8.3"
  }
 },
 "nbformat": 4,
 "nbformat_minor": 2
}
